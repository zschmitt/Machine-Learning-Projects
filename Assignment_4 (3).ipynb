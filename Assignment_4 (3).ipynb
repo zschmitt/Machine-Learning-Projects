{
  "nbformat": 4,
  "nbformat_minor": 0,
  "metadata": {
    "colab": {
      "name": "Assignment 4.ipynb",
      "provenance": [],
      "collapsed_sections": []
    },
    "kernelspec": {
      "name": "python3",
      "display_name": "Python 3"
    },
    "accelerator": "GPU"
  },
  "cells": [
    {
      "cell_type": "markdown",
      "metadata": {
        "id": "IDo6Mz1MoJxR",
        "colab_type": "text"
      },
      "source": [
        "# Assignment 4\n",
        "\n",
        "Turn in the assignment via Canvas.\n",
        "\n",
        "To write legible answers you will need to be familiar with both [Markdown](https://github.com/adam-p/markdown-here/wiki/Markdown-Cheatsheet) and [Latex](https://www.latex-tutorial.com/tutorials/amsmath/)\n",
        "\n",
        "Before you turn this problem in, make sure everything runs as expected. First, restart the kernel (in the menubar, select Runtime→→Restart runtime) and then run all cells (in the menubar, select Runtime→→Run All).\n",
        "\n",
        "Make sure you fill in any place that says \"YOUR CODE HERE\" or \"YOUR ANSWER HERE\", as well as your name below:"
      ]
    },
    {
      "cell_type": "code",
      "metadata": {
        "id": "nOfazHDtoJxS",
        "colab_type": "code",
        "colab": {}
      },
      "source": [
        "NAME = \"Zachary Schmitt\"\n",
        "STUDENT_ID = \"1574482\""
      ],
      "execution_count": 38,
      "outputs": []
    },
    {
      "cell_type": "code",
      "metadata": {
        "id": "8v9z0Mpb-BQP",
        "colab_type": "code",
        "colab": {}
      },
      "source": [
        "# TensorFlow and tf.keras\n",
        "import tensorflow as tf\n",
        "from tensorflow import keras\n",
        "\n",
        "# Helper libraries\n",
        "import numpy as np\n",
        "import matplotlib.pyplot as plt\n",
        "\n",
        "import numpy as np\n",
        "import seaborn as sns\n",
        "import pandas as pd \n",
        "from tensorflow.keras.utils import to_categorical\n",
        "\n"
      ],
      "execution_count": 39,
      "outputs": []
    },
    {
      "cell_type": "markdown",
      "metadata": {
        "id": "450ttnh1rTHv",
        "colab_type": "text"
      },
      "source": [
        "## Data Exploration and Preprocessing"
      ]
    },
    {
      "cell_type": "markdown",
      "metadata": {
        "id": "7Af39xEm-BQV",
        "colab_type": "text"
      },
      "source": [
        "### Load the Fashion-MNIST dataset\n",
        "Keras has lots of datsets that you can just load right into python numpy arrays, see: https://keras.io/datasets/\n",
        "\n",
        "We will be using the Fashion-MNIST dataset, which is a cool little dataset with gray scale $28\\times28$ images of articles of clothing.\n",
        "Keep in mind that they will be downloaded from the internet, so it may take a while."
      ]
    },
    {
      "cell_type": "code",
      "metadata": {
        "id": "riBPz-sW-BQW",
        "colab_type": "code",
        "colab": {}
      },
      "source": [
        "fashion_mnist = keras.datasets.fashion_mnist\n",
        "# splitting training and test data and corresponding labels \n",
        "(train_images, train_labels), (test_images, test_labels) = fashion_mnist.load_data()\n"
      ],
      "execution_count": 40,
      "outputs": []
    },
    {
      "cell_type": "code",
      "metadata": {
        "id": "yvKkk6RF-BQb",
        "colab_type": "code",
        "colab": {}
      },
      "source": [
        "class_names = ['T-shirt/top', 'Trouser', 'Pullover', 'Dress', 'Coat',\n",
        "               'Sandal', 'Shirt', 'Sneaker', 'Bag', 'Ankle boot']\n",
        "class_dict = {i:class_name for i,class_name in enumerate(class_names)}"
      ],
      "execution_count": 41,
      "outputs": []
    },
    {
      "cell_type": "code",
      "metadata": {
        "id": "dUMy4xjA-BQe",
        "colab_type": "code",
        "colab": {}
      },
      "source": [
        "def show_image(index):\n",
        "    plt.figure()\n",
        "    # cmap=plt.cm.binary allows us to show the picture in grayscale\n",
        "    plt.imshow(train_images[index], cmap=plt.cm.binary)\n",
        "    plt.title(class_names[train_labels[index]])\n",
        "    plt.colorbar() # adds a bar to the side with values\n",
        "    plt.show()"
      ],
      "execution_count": 42,
      "outputs": []
    },
    {
      "cell_type": "code",
      "metadata": {
        "id": "vLEyV9VJ-BQm",
        "colab_type": "code",
        "colab": {
          "base_uri": "https://localhost:8080/",
          "height": 300
        },
        "outputId": "50f1e8e3-0730-498d-e359-f3a2a6705fe9"
      },
      "source": [
        "show_image(0)"
      ],
      "execution_count": 43,
      "outputs": [
        {
          "output_type": "display_data",
          "data": {
            "image/png": "[encoded data removed]",
            "text/plain": [
              "<Figure size 432x288 with 2 Axes>"
            ]
          },
          "metadata": {
            "tags": []
          }
        }
      ]
    },
    {
      "cell_type": "markdown",
      "metadata": {
        "id": "a9JIPCjflnFV",
        "colab_type": "text"
      },
      "source": [
        "## Question 1: Data Preprocessing\n",
        "As you can see above, the images are valued from $[0,255]$. This is the normal range for images. Recall from the previous lectures and excercises that we need to normalize our data.\n",
        "\n",
        "In order to normalize our data to $[0,1]$ we use the equation:\n",
        "\n",
        "$$x_{norm}=\\frac{x-x_{min}}{x_{max}-x_{min}}$$\n",
        "\n",
        "In our case we can assume that $x_{min}=0$ and $x_{max}=255$, this is a safe assumption since we are working with image data.\n",
        "\n",
        "This means that for image data, if we want to normlize to $[0,1]$ the equation simplifies to:\n",
        "\n",
        "$$img_{norm}=\\frac{img}{255}$$\n",
        "\n",
        "Anytime you work with image data in any kind of model you will be normalizing with this equation. Unless the range you want to normalize is different. Sometimes you want to normalize between $[-1,1]$, for that you would use a slightly different equation.\n",
        "\n",
        "\n"
      ]
    },
    {
      "cell_type": "markdown",
      "metadata": {
        "id": "eNlUuEcBfqzH",
        "colab_type": "text"
      },
      "source": [
        "### Question 1.1) Normalizing the data\n",
        "Normalize BOTH the training and testing images using the above equation."
      ]
    },
    {
      "cell_type": "code",
      "metadata": {
        "id": "rfN4Lkys-BQr",
        "colab_type": "code",
        "colab": {}
      },
      "source": [
        "train_images = train_images / 255\n",
        "test_images = test_images / 255"
      ],
      "execution_count": 44,
      "outputs": []
    },
    {
      "cell_type": "markdown",
      "metadata": {
        "id": "-QumntnM-BQv",
        "colab_type": "text"
      },
      "source": [
        "If we show the image again, you will see the values are all scaled correctly."
      ]
    },
    {
      "cell_type": "code",
      "metadata": {
        "id": "o15roqPA-BQw",
        "colab_type": "code",
        "colab": {
          "base_uri": "https://localhost:8080/",
          "height": 300
        },
        "outputId": "a769d48b-1828-4834-db4c-f17f92386727"
      },
      "source": [
        "show_image(0)"
      ],
      "execution_count": 45,
      "outputs": [
        {
          "output_type": "display_data",
          "data": {
            "image/png": "[encoded data removed]",
            "text/plain": [
              "<Figure size 432x288 with 2 Axes>"
            ]
          },
          "metadata": {
            "tags": []
          }
        }
      ]
    },
    {
      "cell_type": "code",
      "metadata": {
        "id": "bsg3Mbzb-BQ2",
        "colab_type": "code",
        "colab": {
          "base_uri": "https://localhost:8080/",
          "height": 631
        },
        "outputId": "dfca7d61-2c68-4730-c56e-bcf9bc508dde"
      },
      "source": [
        "# Lets sample our data to see what kind of images are stored.\n",
        "# see documentation for subplot here:\n",
        "# https://matplotlib.org/3.2.1/api/_as_gen/matplotlib.pyplot.subplot.html\n",
        "plt.figure(figsize=(10,10))\n",
        "for i in range(25):\n",
        "    plt.subplot(5,5,i+1)\n",
        "    plt.xticks([])\n",
        "    plt.yticks([])\n",
        "    plt.grid(False)\n",
        "    plt.imshow(train_images[i], cmap=plt.cm.binary)\n",
        "    plt.xlabel(class_names[train_labels[i]])\n",
        "plt.show()"
      ],
      "execution_count": 46,
      "outputs": [
        {
          "output_type": "display_data",
          "data": {
            "image/png": "[encoded data removed]",
            "text/plain": [
              "<Figure size 720x720 with 25 Axes>"
            ]
          },
          "metadata": {
            "tags": []
          }
        }
      ]
    },
    {
      "cell_type": "markdown",
      "metadata": {
        "id": "ZAwvboqPf-B_",
        "colab_type": "text"
      },
      "source": [
        "### Question 1.2) Data Transformation\n",
        "Since our data is composed of grayscale images (one channel) with a resolution of $28\\times28$, we can think of this as the images existing in a $28\\times28=784$ dimensional space. This means that every single image in our dataset can be represented by a vector of length $784$.\n",
        "\n",
        "Please reshape BOTH the training and testing images to be $784D$. \n",
        "\n",
        "Hint: look into numpy.reshape().\n"
      ]
    },
    {
      "cell_type": "code",
      "metadata": {
        "id": "iJ--OeGe-BQ7",
        "colab_type": "code",
        "colab": {
          "base_uri": "https://localhost:8080/",
          "height": 51
        },
        "outputId": "14c42743-1a21-429f-ff6e-cc6e09098157"
      },
      "source": [
        "### YOUR CODE HERE ###\n",
        "def reshape(X):\n",
        "  return np.reshape(X, (X.shape[0], X.shape[2]*X.shape[1]))\n",
        "\n",
        "print(f'Before reshape, train_images shape: {train_images.shape} test_images shape: {test_images.shape}')\n",
        "train_images = reshape(train_images)\n",
        "test_images = reshape(test_images)\n",
        "print(f'After reshape, train_images shape: {train_images.shape} test_images shape: {test_images.shape}')"
      ],
      "execution_count": 47,
      "outputs": [
        {
          "output_type": "stream",
          "text": [
            "Before reshape, train_images shape: (60000, 28, 28) test_images shape: (10000, 28, 28)\n",
            "After reshape, train_images shape: (60000, 784) test_images shape: (10000, 784)\n"
          ],
          "name": "stdout"
        }
      ]
    },
    {
      "cell_type": "markdown",
      "metadata": {
        "id": "tmk0lLTRg2wu",
        "colab_type": "text"
      },
      "source": [
        "We create a dataframe using our training and testing data to keep everything tidy."
      ]
    },
    {
      "cell_type": "code",
      "metadata": {
        "id": "_gMY-eeSlBqs",
        "colab_type": "code",
        "colab": {
          "base_uri": "https://localhost:8080/",
          "height": 321
        },
        "outputId": "da5042f5-5f3a-45f9-dad1-e651ae103fb3"
      },
      "source": [
        "# Add training data into a dataframe\n",
        "img_data = {f\"z{i}\":train_images[:,i] for i in range(784)}\n",
        "img_data[\"label\"] = train_labels\n",
        "df_img_train = pd.DataFrame(img_data)\n",
        "df_img_train[\"class\"] = df_img_train[\"label\"].map(class_dict)\n",
        "df_img_train.head()"
      ],
      "execution_count": 48,
      "outputs": [
        {
          "output_type": "execute_result",
          "data": {
            "text/html": [
              "<div>\n",
              "<style scoped>\n",
              "    .dataframe tbody tr th:only-of-type {\n",
              "        vertical-align: middle;\n",
              "    }\n",
              "\n",
              "    .dataframe tbody tr th {\n",
              "        vertical-align: top;\n",
              "    }\n",
              "\n",
              "    .dataframe thead th {\n",
              "        text-align: right;\n",
              "    }\n",
              "</style>\n",
              "<table border=\"1\" class=\"dataframe\">\n",
              "  <thead>\n",
              "    <tr style=\"text-align: right;\">\n",
              "      <th></th>\n",
              "      <th>z0</th>\n",
              "      <th>z1</th>\n",
              "      <th>z2</th>\n",
              "      <th>z3</th>\n",
              "      <th>z4</th>\n",
              "      <th>z5</th>\n",
              "      <th>z6</th>\n",
              "      <th>z7</th>\n",
              "      <th>z8</th>\n",
              "      <th>z9</th>\n",
              "      <th>z10</th>\n",
              "      <th>z11</th>\n",
              "      <th>z12</th>\n",
              "      <th>z13</th>\n",
              "      <th>z14</th>\n",
              "      <th>z15</th>\n",
              "      <th>z16</th>\n",
              "      <th>z17</th>\n",
              "      <th>z18</th>\n",
              "      <th>z19</th>\n",
              "      <th>z20</th>\n",
              "      <th>z21</th>\n",
              "      <th>z22</th>\n",
              "      <th>z23</th>\n",
              "      <th>z24</th>\n",
              "      <th>z25</th>\n",
              "      <th>z26</th>\n",
              "      <th>z27</th>\n",
              "      <th>z28</th>\n",
              "      <th>z29</th>\n",
              "      <th>z30</th>\n",
              "      <th>z31</th>\n",
              "      <th>z32</th>\n",
              "      <th>z33</th>\n",
              "      <th>z34</th>\n",
              "      <th>z35</th>\n",
              "      <th>z36</th>\n",
              "      <th>z37</th>\n",
              "      <th>z38</th>\n",
              "      <th>z39</th>\n",
              "      <th>...</th>\n",
              "      <th>z746</th>\n",
              "      <th>z747</th>\n",
              "      <th>z748</th>\n",
              "      <th>z749</th>\n",
              "      <th>z750</th>\n",
              "      <th>z751</th>\n",
              "      <th>z752</th>\n",
              "      <th>z753</th>\n",
              "      <th>z754</th>\n",
              "      <th>z755</th>\n",
              "      <th>z756</th>\n",
              "      <th>z757</th>\n",
              "      <th>z758</th>\n",
              "      <th>z759</th>\n",
              "      <th>z760</th>\n",
              "      <th>z761</th>\n",
              "      <th>z762</th>\n",
              "      <th>z763</th>\n",
              "      <th>z764</th>\n",
              "      <th>z765</th>\n",
              "      <th>z766</th>\n",
              "      <th>z767</th>\n",
              "      <th>z768</th>\n",
              "      <th>z769</th>\n",
              "      <th>z770</th>\n",
              "      <th>z771</th>\n",
              "      <th>z772</th>\n",
              "      <th>z773</th>\n",
              "      <th>z774</th>\n",
              "      <th>z775</th>\n",
              "      <th>z776</th>\n",
              "      <th>z777</th>\n",
              "      <th>z778</th>\n",
              "      <th>z779</th>\n",
              "      <th>z780</th>\n",
              "      <th>z781</th>\n",
              "      <th>z782</th>\n",
              "      <th>z783</th>\n",
              "      <th>label</th>\n",
              "      <th>class</th>\n",
              "    </tr>\n",
              "  </thead>\n",
              "  <tbody>\n",
              "    <tr>\n",
              "      <th>0</th>\n",
              "      <td>0.0</td>\n",
              "      <td>0.0</td>\n",
              "      <td>0.0</td>\n",
              "      <td>0.0</td>\n",
              "      <td>0.0</td>\n",
              "      <td>0.000000</td>\n",
              "      <td>0.0</td>\n",
              "      <td>0.0</td>\n",
              "      <td>0.000000</td>\n",
              "      <td>0.000000</td>\n",
              "      <td>0.000000</td>\n",
              "      <td>0.000000</td>\n",
              "      <td>0.000000</td>\n",
              "      <td>0.000000</td>\n",
              "      <td>0.000000</td>\n",
              "      <td>0.000000</td>\n",
              "      <td>0.000000</td>\n",
              "      <td>0.000000</td>\n",
              "      <td>0.000000</td>\n",
              "      <td>0.000000</td>\n",
              "      <td>0.0</td>\n",
              "      <td>0.0</td>\n",
              "      <td>0.0</td>\n",
              "      <td>0.0</td>\n",
              "      <td>0.0</td>\n",
              "      <td>0.0</td>\n",
              "      <td>0.0</td>\n",
              "      <td>0.0</td>\n",
              "      <td>0.0</td>\n",
              "      <td>0.0</td>\n",
              "      <td>0.0</td>\n",
              "      <td>0.000000</td>\n",
              "      <td>0.0</td>\n",
              "      <td>0.0</td>\n",
              "      <td>0.000000</td>\n",
              "      <td>0.000000</td>\n",
              "      <td>0.000000</td>\n",
              "      <td>0.000000</td>\n",
              "      <td>0.000000</td>\n",
              "      <td>0.000000</td>\n",
              "      <td>...</td>\n",
              "      <td>0.000000</td>\n",
              "      <td>0.000000</td>\n",
              "      <td>0.000000</td>\n",
              "      <td>0.000000</td>\n",
              "      <td>0.000000</td>\n",
              "      <td>0.000000</td>\n",
              "      <td>0.0</td>\n",
              "      <td>0.0</td>\n",
              "      <td>0.0</td>\n",
              "      <td>0.0</td>\n",
              "      <td>0.0</td>\n",
              "      <td>0.0</td>\n",
              "      <td>0.0</td>\n",
              "      <td>0.0</td>\n",
              "      <td>0.0</td>\n",
              "      <td>0.000000</td>\n",
              "      <td>0.000000</td>\n",
              "      <td>0.0</td>\n",
              "      <td>0.000000</td>\n",
              "      <td>0.000000</td>\n",
              "      <td>0.000000</td>\n",
              "      <td>0.000000</td>\n",
              "      <td>0.000000</td>\n",
              "      <td>0.000000</td>\n",
              "      <td>0.000000</td>\n",
              "      <td>0.000000</td>\n",
              "      <td>0.000000</td>\n",
              "      <td>0.000000</td>\n",
              "      <td>0.000000</td>\n",
              "      <td>0.000000</td>\n",
              "      <td>0.000000</td>\n",
              "      <td>0.000000</td>\n",
              "      <td>0.0</td>\n",
              "      <td>0.0</td>\n",
              "      <td>0.0</td>\n",
              "      <td>0.0</td>\n",
              "      <td>0.0</td>\n",
              "      <td>0.0</td>\n",
              "      <td>9</td>\n",
              "      <td>Ankle boot</td>\n",
              "    </tr>\n",
              "    <tr>\n",
              "      <th>1</th>\n",
              "      <td>0.0</td>\n",
              "      <td>0.0</td>\n",
              "      <td>0.0</td>\n",
              "      <td>0.0</td>\n",
              "      <td>0.0</td>\n",
              "      <td>0.003922</td>\n",
              "      <td>0.0</td>\n",
              "      <td>0.0</td>\n",
              "      <td>0.000000</td>\n",
              "      <td>0.000000</td>\n",
              "      <td>0.160784</td>\n",
              "      <td>0.737255</td>\n",
              "      <td>0.403922</td>\n",
              "      <td>0.211765</td>\n",
              "      <td>0.188235</td>\n",
              "      <td>0.168627</td>\n",
              "      <td>0.341176</td>\n",
              "      <td>0.658824</td>\n",
              "      <td>0.521569</td>\n",
              "      <td>0.062745</td>\n",
              "      <td>0.0</td>\n",
              "      <td>0.0</td>\n",
              "      <td>0.0</td>\n",
              "      <td>0.0</td>\n",
              "      <td>0.0</td>\n",
              "      <td>0.0</td>\n",
              "      <td>0.0</td>\n",
              "      <td>0.0</td>\n",
              "      <td>0.0</td>\n",
              "      <td>0.0</td>\n",
              "      <td>0.0</td>\n",
              "      <td>0.003922</td>\n",
              "      <td>0.0</td>\n",
              "      <td>0.0</td>\n",
              "      <td>0.000000</td>\n",
              "      <td>0.192157</td>\n",
              "      <td>0.533333</td>\n",
              "      <td>0.858824</td>\n",
              "      <td>0.847059</td>\n",
              "      <td>0.894118</td>\n",
              "      <td>...</td>\n",
              "      <td>0.952941</td>\n",
              "      <td>0.839216</td>\n",
              "      <td>0.878431</td>\n",
              "      <td>0.635294</td>\n",
              "      <td>0.000000</td>\n",
              "      <td>0.007843</td>\n",
              "      <td>0.0</td>\n",
              "      <td>0.0</td>\n",
              "      <td>0.0</td>\n",
              "      <td>0.0</td>\n",
              "      <td>0.0</td>\n",
              "      <td>0.0</td>\n",
              "      <td>0.0</td>\n",
              "      <td>0.0</td>\n",
              "      <td>0.0</td>\n",
              "      <td>0.003922</td>\n",
              "      <td>0.000000</td>\n",
              "      <td>0.0</td>\n",
              "      <td>0.545098</td>\n",
              "      <td>0.572549</td>\n",
              "      <td>0.509804</td>\n",
              "      <td>0.529412</td>\n",
              "      <td>0.529412</td>\n",
              "      <td>0.537255</td>\n",
              "      <td>0.490196</td>\n",
              "      <td>0.486275</td>\n",
              "      <td>0.490196</td>\n",
              "      <td>0.474510</td>\n",
              "      <td>0.466667</td>\n",
              "      <td>0.447059</td>\n",
              "      <td>0.509804</td>\n",
              "      <td>0.298039</td>\n",
              "      <td>0.0</td>\n",
              "      <td>0.0</td>\n",
              "      <td>0.0</td>\n",
              "      <td>0.0</td>\n",
              "      <td>0.0</td>\n",
              "      <td>0.0</td>\n",
              "      <td>0</td>\n",
              "      <td>T-shirt/top</td>\n",
              "    </tr>\n",
              "    <tr>\n",
              "      <th>2</th>\n",
              "      <td>0.0</td>\n",
              "      <td>0.0</td>\n",
              "      <td>0.0</td>\n",
              "      <td>0.0</td>\n",
              "      <td>0.0</td>\n",
              "      <td>0.000000</td>\n",
              "      <td>0.0</td>\n",
              "      <td>0.0</td>\n",
              "      <td>0.000000</td>\n",
              "      <td>0.086275</td>\n",
              "      <td>0.462745</td>\n",
              "      <td>0.094118</td>\n",
              "      <td>0.000000</td>\n",
              "      <td>0.000000</td>\n",
              "      <td>0.000000</td>\n",
              "      <td>0.000000</td>\n",
              "      <td>0.000000</td>\n",
              "      <td>0.188235</td>\n",
              "      <td>0.345098</td>\n",
              "      <td>0.019608</td>\n",
              "      <td>0.0</td>\n",
              "      <td>0.0</td>\n",
              "      <td>0.0</td>\n",
              "      <td>0.0</td>\n",
              "      <td>0.0</td>\n",
              "      <td>0.0</td>\n",
              "      <td>0.0</td>\n",
              "      <td>0.0</td>\n",
              "      <td>0.0</td>\n",
              "      <td>0.0</td>\n",
              "      <td>0.0</td>\n",
              "      <td>0.000000</td>\n",
              "      <td>0.0</td>\n",
              "      <td>0.0</td>\n",
              "      <td>0.000000</td>\n",
              "      <td>0.000000</td>\n",
              "      <td>0.047059</td>\n",
              "      <td>0.392157</td>\n",
              "      <td>0.831373</td>\n",
              "      <td>0.803922</td>\n",
              "      <td>...</td>\n",
              "      <td>0.294118</td>\n",
              "      <td>0.039216</td>\n",
              "      <td>0.000000</td>\n",
              "      <td>0.000000</td>\n",
              "      <td>0.000000</td>\n",
              "      <td>0.000000</td>\n",
              "      <td>0.0</td>\n",
              "      <td>0.0</td>\n",
              "      <td>0.0</td>\n",
              "      <td>0.0</td>\n",
              "      <td>0.0</td>\n",
              "      <td>0.0</td>\n",
              "      <td>0.0</td>\n",
              "      <td>0.0</td>\n",
              "      <td>0.0</td>\n",
              "      <td>0.000000</td>\n",
              "      <td>0.000000</td>\n",
              "      <td>0.0</td>\n",
              "      <td>0.003922</td>\n",
              "      <td>0.000000</td>\n",
              "      <td>0.000000</td>\n",
              "      <td>0.000000</td>\n",
              "      <td>0.070588</td>\n",
              "      <td>0.164706</td>\n",
              "      <td>0.223529</td>\n",
              "      <td>0.219608</td>\n",
              "      <td>0.125490</td>\n",
              "      <td>0.031373</td>\n",
              "      <td>0.000000</td>\n",
              "      <td>0.000000</td>\n",
              "      <td>0.003922</td>\n",
              "      <td>0.000000</td>\n",
              "      <td>0.0</td>\n",
              "      <td>0.0</td>\n",
              "      <td>0.0</td>\n",
              "      <td>0.0</td>\n",
              "      <td>0.0</td>\n",
              "      <td>0.0</td>\n",
              "      <td>0</td>\n",
              "      <td>T-shirt/top</td>\n",
              "    </tr>\n",
              "    <tr>\n",
              "      <th>3</th>\n",
              "      <td>0.0</td>\n",
              "      <td>0.0</td>\n",
              "      <td>0.0</td>\n",
              "      <td>0.0</td>\n",
              "      <td>0.0</td>\n",
              "      <td>0.000000</td>\n",
              "      <td>0.0</td>\n",
              "      <td>0.0</td>\n",
              "      <td>0.129412</td>\n",
              "      <td>0.376471</td>\n",
              "      <td>0.686275</td>\n",
              "      <td>0.611765</td>\n",
              "      <td>0.250980</td>\n",
              "      <td>0.054902</td>\n",
              "      <td>0.211765</td>\n",
              "      <td>0.537255</td>\n",
              "      <td>0.800000</td>\n",
              "      <td>0.760784</td>\n",
              "      <td>0.400000</td>\n",
              "      <td>0.000000</td>\n",
              "      <td>0.0</td>\n",
              "      <td>0.0</td>\n",
              "      <td>0.0</td>\n",
              "      <td>0.0</td>\n",
              "      <td>0.0</td>\n",
              "      <td>0.0</td>\n",
              "      <td>0.0</td>\n",
              "      <td>0.0</td>\n",
              "      <td>0.0</td>\n",
              "      <td>0.0</td>\n",
              "      <td>0.0</td>\n",
              "      <td>0.000000</td>\n",
              "      <td>0.0</td>\n",
              "      <td>0.0</td>\n",
              "      <td>0.286275</td>\n",
              "      <td>0.729412</td>\n",
              "      <td>0.694118</td>\n",
              "      <td>0.717647</td>\n",
              "      <td>0.686275</td>\n",
              "      <td>0.737255</td>\n",
              "      <td>...</td>\n",
              "      <td>0.333333</td>\n",
              "      <td>0.627451</td>\n",
              "      <td>0.521569</td>\n",
              "      <td>0.392157</td>\n",
              "      <td>0.047059</td>\n",
              "      <td>0.000000</td>\n",
              "      <td>0.0</td>\n",
              "      <td>0.0</td>\n",
              "      <td>0.0</td>\n",
              "      <td>0.0</td>\n",
              "      <td>0.0</td>\n",
              "      <td>0.0</td>\n",
              "      <td>0.0</td>\n",
              "      <td>0.0</td>\n",
              "      <td>0.0</td>\n",
              "      <td>0.000000</td>\n",
              "      <td>0.015686</td>\n",
              "      <td>0.0</td>\n",
              "      <td>0.007843</td>\n",
              "      <td>0.000000</td>\n",
              "      <td>0.137255</td>\n",
              "      <td>0.015686</td>\n",
              "      <td>0.129412</td>\n",
              "      <td>0.000000</td>\n",
              "      <td>0.000000</td>\n",
              "      <td>0.000000</td>\n",
              "      <td>0.000000</td>\n",
              "      <td>0.000000</td>\n",
              "      <td>0.000000</td>\n",
              "      <td>0.000000</td>\n",
              "      <td>0.000000</td>\n",
              "      <td>0.000000</td>\n",
              "      <td>0.0</td>\n",
              "      <td>0.0</td>\n",
              "      <td>0.0</td>\n",
              "      <td>0.0</td>\n",
              "      <td>0.0</td>\n",
              "      <td>0.0</td>\n",
              "      <td>3</td>\n",
              "      <td>Dress</td>\n",
              "    </tr>\n",
              "    <tr>\n",
              "      <th>4</th>\n",
              "      <td>0.0</td>\n",
              "      <td>0.0</td>\n",
              "      <td>0.0</td>\n",
              "      <td>0.0</td>\n",
              "      <td>0.0</td>\n",
              "      <td>0.000000</td>\n",
              "      <td>0.0</td>\n",
              "      <td>0.0</td>\n",
              "      <td>0.000000</td>\n",
              "      <td>0.000000</td>\n",
              "      <td>0.000000</td>\n",
              "      <td>0.000000</td>\n",
              "      <td>0.000000</td>\n",
              "      <td>0.000000</td>\n",
              "      <td>0.000000</td>\n",
              "      <td>0.000000</td>\n",
              "      <td>0.000000</td>\n",
              "      <td>0.101961</td>\n",
              "      <td>0.000000</td>\n",
              "      <td>0.000000</td>\n",
              "      <td>0.0</td>\n",
              "      <td>0.0</td>\n",
              "      <td>0.0</td>\n",
              "      <td>0.0</td>\n",
              "      <td>0.0</td>\n",
              "      <td>0.0</td>\n",
              "      <td>0.0</td>\n",
              "      <td>0.0</td>\n",
              "      <td>0.0</td>\n",
              "      <td>0.0</td>\n",
              "      <td>0.0</td>\n",
              "      <td>0.000000</td>\n",
              "      <td>0.0</td>\n",
              "      <td>0.0</td>\n",
              "      <td>0.000000</td>\n",
              "      <td>0.000000</td>\n",
              "      <td>0.741176</td>\n",
              "      <td>0.807843</td>\n",
              "      <td>0.733333</td>\n",
              "      <td>0.125490</td>\n",
              "      <td>...</td>\n",
              "      <td>1.000000</td>\n",
              "      <td>0.274510</td>\n",
              "      <td>0.000000</td>\n",
              "      <td>0.000000</td>\n",
              "      <td>0.000000</td>\n",
              "      <td>0.000000</td>\n",
              "      <td>0.0</td>\n",
              "      <td>0.0</td>\n",
              "      <td>0.0</td>\n",
              "      <td>0.0</td>\n",
              "      <td>0.0</td>\n",
              "      <td>0.0</td>\n",
              "      <td>0.0</td>\n",
              "      <td>0.0</td>\n",
              "      <td>0.0</td>\n",
              "      <td>0.000000</td>\n",
              "      <td>0.000000</td>\n",
              "      <td>0.0</td>\n",
              "      <td>0.000000</td>\n",
              "      <td>0.000000</td>\n",
              "      <td>0.239216</td>\n",
              "      <td>0.400000</td>\n",
              "      <td>0.658824</td>\n",
              "      <td>0.098039</td>\n",
              "      <td>0.000000</td>\n",
              "      <td>0.545098</td>\n",
              "      <td>0.631373</td>\n",
              "      <td>0.290196</td>\n",
              "      <td>0.000000</td>\n",
              "      <td>0.000000</td>\n",
              "      <td>0.000000</td>\n",
              "      <td>0.000000</td>\n",
              "      <td>0.0</td>\n",
              "      <td>0.0</td>\n",
              "      <td>0.0</td>\n",
              "      <td>0.0</td>\n",
              "      <td>0.0</td>\n",
              "      <td>0.0</td>\n",
              "      <td>0</td>\n",
              "      <td>T-shirt/top</td>\n",
              "    </tr>\n",
              "  </tbody>\n",
              "</table>\n",
              "<p>5 rows × 786 columns</p>\n",
              "</div>"
            ],
            "text/plain": [
              "    z0   z1   z2   z3   z4  ...  z781  z782  z783  label        class\n",
              "0  0.0  0.0  0.0  0.0  0.0  ...   0.0   0.0   0.0      9   Ankle boot\n",
              "1  0.0  0.0  0.0  0.0  0.0  ...   0.0   0.0   0.0      0  T-shirt/top\n",
              "2  0.0  0.0  0.0  0.0  0.0  ...   0.0   0.0   0.0      0  T-shirt/top\n",
              "3  0.0  0.0  0.0  0.0  0.0  ...   0.0   0.0   0.0      3        Dress\n",
              "4  0.0  0.0  0.0  0.0  0.0  ...   0.0   0.0   0.0      0  T-shirt/top\n",
              "\n",
              "[5 rows x 786 columns]"
            ]
          },
          "metadata": {
            "tags": []
          },
          "execution_count": 48
        }
      ]
    },
    {
      "cell_type": "code",
      "metadata": {
        "id": "f4Cwpg90Grrx",
        "colab_type": "code",
        "colab": {
          "base_uri": "https://localhost:8080/",
          "height": 270
        },
        "outputId": "614c9653-2a19-4364-fd4c-af15684d7dd3"
      },
      "source": [
        "# Add test data into a dataframe\n",
        "img_data = {f\"z{i}\":test_images[:,i] for i in range(784)}\n",
        "img_data[\"label\"] = test_labels\n",
        "df_img_test = pd.DataFrame(img_data)\n",
        "df_img_test[\"class\"] = df_img_test[\"label\"].map(class_dict)\n",
        "df_img_test.head()"
      ],
      "execution_count": 49,
      "outputs": [
        {
          "output_type": "execute_result",
          "data": {
            "text/html": [
              "<div>\n",
              "<style scoped>\n",
              "    .dataframe tbody tr th:only-of-type {\n",
              "        vertical-align: middle;\n",
              "    }\n",
              "\n",
              "    .dataframe tbody tr th {\n",
              "        vertical-align: top;\n",
              "    }\n",
              "\n",
              "    .dataframe thead th {\n",
              "        text-align: right;\n",
              "    }\n",
              "</style>\n",
              "<table border=\"1\" class=\"dataframe\">\n",
              "  <thead>\n",
              "    <tr style=\"text-align: right;\">\n",
              "      <th></th>\n",
              "      <th>z0</th>\n",
              "      <th>z1</th>\n",
              "      <th>z2</th>\n",
              "      <th>z3</th>\n",
              "      <th>z4</th>\n",
              "      <th>z5</th>\n",
              "      <th>z6</th>\n",
              "      <th>z7</th>\n",
              "      <th>z8</th>\n",
              "      <th>z9</th>\n",
              "      <th>z10</th>\n",
              "      <th>z11</th>\n",
              "      <th>z12</th>\n",
              "      <th>z13</th>\n",
              "      <th>z14</th>\n",
              "      <th>z15</th>\n",
              "      <th>z16</th>\n",
              "      <th>z17</th>\n",
              "      <th>z18</th>\n",
              "      <th>z19</th>\n",
              "      <th>z20</th>\n",
              "      <th>z21</th>\n",
              "      <th>z22</th>\n",
              "      <th>z23</th>\n",
              "      <th>z24</th>\n",
              "      <th>z25</th>\n",
              "      <th>z26</th>\n",
              "      <th>z27</th>\n",
              "      <th>z28</th>\n",
              "      <th>z29</th>\n",
              "      <th>z30</th>\n",
              "      <th>z31</th>\n",
              "      <th>z32</th>\n",
              "      <th>z33</th>\n",
              "      <th>z34</th>\n",
              "      <th>z35</th>\n",
              "      <th>z36</th>\n",
              "      <th>z37</th>\n",
              "      <th>z38</th>\n",
              "      <th>z39</th>\n",
              "      <th>...</th>\n",
              "      <th>z746</th>\n",
              "      <th>z747</th>\n",
              "      <th>z748</th>\n",
              "      <th>z749</th>\n",
              "      <th>z750</th>\n",
              "      <th>z751</th>\n",
              "      <th>z752</th>\n",
              "      <th>z753</th>\n",
              "      <th>z754</th>\n",
              "      <th>z755</th>\n",
              "      <th>z756</th>\n",
              "      <th>z757</th>\n",
              "      <th>z758</th>\n",
              "      <th>z759</th>\n",
              "      <th>z760</th>\n",
              "      <th>z761</th>\n",
              "      <th>z762</th>\n",
              "      <th>z763</th>\n",
              "      <th>z764</th>\n",
              "      <th>z765</th>\n",
              "      <th>z766</th>\n",
              "      <th>z767</th>\n",
              "      <th>z768</th>\n",
              "      <th>z769</th>\n",
              "      <th>z770</th>\n",
              "      <th>z771</th>\n",
              "      <th>z772</th>\n",
              "      <th>z773</th>\n",
              "      <th>z774</th>\n",
              "      <th>z775</th>\n",
              "      <th>z776</th>\n",
              "      <th>z777</th>\n",
              "      <th>z778</th>\n",
              "      <th>z779</th>\n",
              "      <th>z780</th>\n",
              "      <th>z781</th>\n",
              "      <th>z782</th>\n",
              "      <th>z783</th>\n",
              "      <th>label</th>\n",
              "      <th>class</th>\n",
              "    </tr>\n",
              "  </thead>\n",
              "  <tbody>\n",
              "    <tr>\n",
              "      <th>0</th>\n",
              "      <td>0.0</td>\n",
              "      <td>0.0</td>\n",
              "      <td>0.0</td>\n",
              "      <td>0.000000</td>\n",
              "      <td>0.0</td>\n",
              "      <td>0.000000</td>\n",
              "      <td>0.000000</td>\n",
              "      <td>0.0</td>\n",
              "      <td>0.000000</td>\n",
              "      <td>0.000000</td>\n",
              "      <td>0.000000</td>\n",
              "      <td>0.000000</td>\n",
              "      <td>0.000000</td>\n",
              "      <td>0.000000</td>\n",
              "      <td>0.000000</td>\n",
              "      <td>0.000000</td>\n",
              "      <td>0.000000</td>\n",
              "      <td>0.000000</td>\n",
              "      <td>0.000000</td>\n",
              "      <td>0.000000</td>\n",
              "      <td>0.0</td>\n",
              "      <td>0.0</td>\n",
              "      <td>0.0</td>\n",
              "      <td>0.0</td>\n",
              "      <td>0.0</td>\n",
              "      <td>0.0</td>\n",
              "      <td>0.0</td>\n",
              "      <td>0.0</td>\n",
              "      <td>0.0</td>\n",
              "      <td>0.0</td>\n",
              "      <td>0.0</td>\n",
              "      <td>0.000000</td>\n",
              "      <td>0.000000</td>\n",
              "      <td>0.000000</td>\n",
              "      <td>0.0</td>\n",
              "      <td>0.000000</td>\n",
              "      <td>0.000000</td>\n",
              "      <td>0.000000</td>\n",
              "      <td>0.000000</td>\n",
              "      <td>0.000000</td>\n",
              "      <td>...</td>\n",
              "      <td>0.000000</td>\n",
              "      <td>0.000000</td>\n",
              "      <td>0.000000</td>\n",
              "      <td>0.000000</td>\n",
              "      <td>0.000000</td>\n",
              "      <td>0.0</td>\n",
              "      <td>0.000000</td>\n",
              "      <td>0.0</td>\n",
              "      <td>0.0</td>\n",
              "      <td>0.0</td>\n",
              "      <td>0.0</td>\n",
              "      <td>0.0</td>\n",
              "      <td>0.0</td>\n",
              "      <td>0.0</td>\n",
              "      <td>0.000000</td>\n",
              "      <td>0.000000</td>\n",
              "      <td>0.000000</td>\n",
              "      <td>0.000000</td>\n",
              "      <td>0.0</td>\n",
              "      <td>0.000000</td>\n",
              "      <td>0.000000</td>\n",
              "      <td>0.000000</td>\n",
              "      <td>0.000000</td>\n",
              "      <td>0.000000</td>\n",
              "      <td>0.000000</td>\n",
              "      <td>0.000000</td>\n",
              "      <td>0.000000</td>\n",
              "      <td>0.000000</td>\n",
              "      <td>0.000000</td>\n",
              "      <td>0.000000</td>\n",
              "      <td>0.0</td>\n",
              "      <td>0.000000</td>\n",
              "      <td>0.000000</td>\n",
              "      <td>0.000000</td>\n",
              "      <td>0.000000</td>\n",
              "      <td>0.0</td>\n",
              "      <td>0.0</td>\n",
              "      <td>0.0</td>\n",
              "      <td>9</td>\n",
              "      <td>Ankle boot</td>\n",
              "    </tr>\n",
              "    <tr>\n",
              "      <th>1</th>\n",
              "      <td>0.0</td>\n",
              "      <td>0.0</td>\n",
              "      <td>0.0</td>\n",
              "      <td>0.000000</td>\n",
              "      <td>0.0</td>\n",
              "      <td>0.000000</td>\n",
              "      <td>0.000000</td>\n",
              "      <td>0.0</td>\n",
              "      <td>0.000000</td>\n",
              "      <td>0.000000</td>\n",
              "      <td>0.050980</td>\n",
              "      <td>0.262745</td>\n",
              "      <td>0.000000</td>\n",
              "      <td>0.000000</td>\n",
              "      <td>0.000000</td>\n",
              "      <td>0.000000</td>\n",
              "      <td>0.196078</td>\n",
              "      <td>0.149020</td>\n",
              "      <td>0.000000</td>\n",
              "      <td>0.000000</td>\n",
              "      <td>0.0</td>\n",
              "      <td>0.0</td>\n",
              "      <td>0.0</td>\n",
              "      <td>0.0</td>\n",
              "      <td>0.0</td>\n",
              "      <td>0.0</td>\n",
              "      <td>0.0</td>\n",
              "      <td>0.0</td>\n",
              "      <td>0.0</td>\n",
              "      <td>0.0</td>\n",
              "      <td>0.0</td>\n",
              "      <td>0.000000</td>\n",
              "      <td>0.000000</td>\n",
              "      <td>0.000000</td>\n",
              "      <td>0.0</td>\n",
              "      <td>0.031373</td>\n",
              "      <td>0.470588</td>\n",
              "      <td>0.819608</td>\n",
              "      <td>0.886275</td>\n",
              "      <td>0.968627</td>\n",
              "      <td>...</td>\n",
              "      <td>0.000000</td>\n",
              "      <td>0.000000</td>\n",
              "      <td>0.000000</td>\n",
              "      <td>0.152941</td>\n",
              "      <td>0.976471</td>\n",
              "      <td>1.0</td>\n",
              "      <td>0.482353</td>\n",
              "      <td>0.0</td>\n",
              "      <td>0.0</td>\n",
              "      <td>0.0</td>\n",
              "      <td>0.0</td>\n",
              "      <td>0.0</td>\n",
              "      <td>0.0</td>\n",
              "      <td>0.0</td>\n",
              "      <td>0.192157</td>\n",
              "      <td>0.803922</td>\n",
              "      <td>0.772549</td>\n",
              "      <td>0.043137</td>\n",
              "      <td>0.0</td>\n",
              "      <td>0.015686</td>\n",
              "      <td>0.003922</td>\n",
              "      <td>0.007843</td>\n",
              "      <td>0.007843</td>\n",
              "      <td>0.007843</td>\n",
              "      <td>0.007843</td>\n",
              "      <td>0.007843</td>\n",
              "      <td>0.007843</td>\n",
              "      <td>0.007843</td>\n",
              "      <td>0.007843</td>\n",
              "      <td>0.011765</td>\n",
              "      <td>0.0</td>\n",
              "      <td>0.011765</td>\n",
              "      <td>0.682353</td>\n",
              "      <td>0.741176</td>\n",
              "      <td>0.262745</td>\n",
              "      <td>0.0</td>\n",
              "      <td>0.0</td>\n",
              "      <td>0.0</td>\n",
              "      <td>2</td>\n",
              "      <td>Pullover</td>\n",
              "    </tr>\n",
              "    <tr>\n",
              "      <th>2</th>\n",
              "      <td>0.0</td>\n",
              "      <td>0.0</td>\n",
              "      <td>0.0</td>\n",
              "      <td>0.000000</td>\n",
              "      <td>0.0</td>\n",
              "      <td>0.000000</td>\n",
              "      <td>0.000000</td>\n",
              "      <td>0.0</td>\n",
              "      <td>0.003922</td>\n",
              "      <td>0.000000</td>\n",
              "      <td>0.262745</td>\n",
              "      <td>0.694118</td>\n",
              "      <td>0.505882</td>\n",
              "      <td>0.600000</td>\n",
              "      <td>0.458824</td>\n",
              "      <td>0.505882</td>\n",
              "      <td>0.572549</td>\n",
              "      <td>0.552941</td>\n",
              "      <td>0.686275</td>\n",
              "      <td>0.000000</td>\n",
              "      <td>0.0</td>\n",
              "      <td>0.0</td>\n",
              "      <td>0.0</td>\n",
              "      <td>0.0</td>\n",
              "      <td>0.0</td>\n",
              "      <td>0.0</td>\n",
              "      <td>0.0</td>\n",
              "      <td>0.0</td>\n",
              "      <td>0.0</td>\n",
              "      <td>0.0</td>\n",
              "      <td>0.0</td>\n",
              "      <td>0.000000</td>\n",
              "      <td>0.000000</td>\n",
              "      <td>0.000000</td>\n",
              "      <td>0.0</td>\n",
              "      <td>0.000000</td>\n",
              "      <td>0.007843</td>\n",
              "      <td>0.000000</td>\n",
              "      <td>0.768627</td>\n",
              "      <td>1.000000</td>\n",
              "      <td>...</td>\n",
              "      <td>0.988235</td>\n",
              "      <td>0.466667</td>\n",
              "      <td>0.000000</td>\n",
              "      <td>0.000000</td>\n",
              "      <td>0.000000</td>\n",
              "      <td>0.0</td>\n",
              "      <td>0.000000</td>\n",
              "      <td>0.0</td>\n",
              "      <td>0.0</td>\n",
              "      <td>0.0</td>\n",
              "      <td>0.0</td>\n",
              "      <td>0.0</td>\n",
              "      <td>0.0</td>\n",
              "      <td>0.0</td>\n",
              "      <td>0.000000</td>\n",
              "      <td>0.000000</td>\n",
              "      <td>0.000000</td>\n",
              "      <td>0.000000</td>\n",
              "      <td>0.0</td>\n",
              "      <td>0.000000</td>\n",
              "      <td>0.000000</td>\n",
              "      <td>0.384314</td>\n",
              "      <td>0.623529</td>\n",
              "      <td>0.278431</td>\n",
              "      <td>0.000000</td>\n",
              "      <td>0.000000</td>\n",
              "      <td>0.266667</td>\n",
              "      <td>0.690196</td>\n",
              "      <td>0.643137</td>\n",
              "      <td>0.227451</td>\n",
              "      <td>0.0</td>\n",
              "      <td>0.000000</td>\n",
              "      <td>0.000000</td>\n",
              "      <td>0.000000</td>\n",
              "      <td>0.000000</td>\n",
              "      <td>0.0</td>\n",
              "      <td>0.0</td>\n",
              "      <td>0.0</td>\n",
              "      <td>1</td>\n",
              "      <td>Trouser</td>\n",
              "    </tr>\n",
              "    <tr>\n",
              "      <th>3</th>\n",
              "      <td>0.0</td>\n",
              "      <td>0.0</td>\n",
              "      <td>0.0</td>\n",
              "      <td>0.000000</td>\n",
              "      <td>0.0</td>\n",
              "      <td>0.000000</td>\n",
              "      <td>0.000000</td>\n",
              "      <td>0.0</td>\n",
              "      <td>0.000000</td>\n",
              "      <td>0.082353</td>\n",
              "      <td>0.482353</td>\n",
              "      <td>0.423529</td>\n",
              "      <td>0.388235</td>\n",
              "      <td>0.388235</td>\n",
              "      <td>0.329412</td>\n",
              "      <td>0.325490</td>\n",
              "      <td>0.337255</td>\n",
              "      <td>0.360784</td>\n",
              "      <td>0.274510</td>\n",
              "      <td>0.023529</td>\n",
              "      <td>0.0</td>\n",
              "      <td>0.0</td>\n",
              "      <td>0.0</td>\n",
              "      <td>0.0</td>\n",
              "      <td>0.0</td>\n",
              "      <td>0.0</td>\n",
              "      <td>0.0</td>\n",
              "      <td>0.0</td>\n",
              "      <td>0.0</td>\n",
              "      <td>0.0</td>\n",
              "      <td>0.0</td>\n",
              "      <td>0.000000</td>\n",
              "      <td>0.000000</td>\n",
              "      <td>0.000000</td>\n",
              "      <td>0.0</td>\n",
              "      <td>0.000000</td>\n",
              "      <td>0.000000</td>\n",
              "      <td>0.415686</td>\n",
              "      <td>0.972549</td>\n",
              "      <td>0.901961</td>\n",
              "      <td>...</td>\n",
              "      <td>0.180392</td>\n",
              "      <td>0.000000</td>\n",
              "      <td>0.000000</td>\n",
              "      <td>0.000000</td>\n",
              "      <td>0.000000</td>\n",
              "      <td>0.0</td>\n",
              "      <td>0.000000</td>\n",
              "      <td>0.0</td>\n",
              "      <td>0.0</td>\n",
              "      <td>0.0</td>\n",
              "      <td>0.0</td>\n",
              "      <td>0.0</td>\n",
              "      <td>0.0</td>\n",
              "      <td>0.0</td>\n",
              "      <td>0.000000</td>\n",
              "      <td>0.000000</td>\n",
              "      <td>0.000000</td>\n",
              "      <td>0.000000</td>\n",
              "      <td>0.0</td>\n",
              "      <td>0.000000</td>\n",
              "      <td>0.078431</td>\n",
              "      <td>0.682353</td>\n",
              "      <td>0.396078</td>\n",
              "      <td>0.000000</td>\n",
              "      <td>0.000000</td>\n",
              "      <td>0.000000</td>\n",
              "      <td>0.572549</td>\n",
              "      <td>0.572549</td>\n",
              "      <td>0.003922</td>\n",
              "      <td>0.000000</td>\n",
              "      <td>0.0</td>\n",
              "      <td>0.000000</td>\n",
              "      <td>0.000000</td>\n",
              "      <td>0.000000</td>\n",
              "      <td>0.000000</td>\n",
              "      <td>0.0</td>\n",
              "      <td>0.0</td>\n",
              "      <td>0.0</td>\n",
              "      <td>1</td>\n",
              "      <td>Trouser</td>\n",
              "    </tr>\n",
              "    <tr>\n",
              "      <th>4</th>\n",
              "      <td>0.0</td>\n",
              "      <td>0.0</td>\n",
              "      <td>0.0</td>\n",
              "      <td>0.007843</td>\n",
              "      <td>0.0</td>\n",
              "      <td>0.003922</td>\n",
              "      <td>0.003922</td>\n",
              "      <td>0.0</td>\n",
              "      <td>0.000000</td>\n",
              "      <td>0.000000</td>\n",
              "      <td>0.000000</td>\n",
              "      <td>0.223529</td>\n",
              "      <td>0.262745</td>\n",
              "      <td>0.286275</td>\n",
              "      <td>0.298039</td>\n",
              "      <td>0.298039</td>\n",
              "      <td>0.325490</td>\n",
              "      <td>0.243137</td>\n",
              "      <td>0.000000</td>\n",
              "      <td>0.000000</td>\n",
              "      <td>0.0</td>\n",
              "      <td>0.0</td>\n",
              "      <td>0.0</td>\n",
              "      <td>0.0</td>\n",
              "      <td>0.0</td>\n",
              "      <td>0.0</td>\n",
              "      <td>0.0</td>\n",
              "      <td>0.0</td>\n",
              "      <td>0.0</td>\n",
              "      <td>0.0</td>\n",
              "      <td>0.0</td>\n",
              "      <td>0.003922</td>\n",
              "      <td>0.003922</td>\n",
              "      <td>0.003922</td>\n",
              "      <td>0.0</td>\n",
              "      <td>0.000000</td>\n",
              "      <td>0.050980</td>\n",
              "      <td>0.309804</td>\n",
              "      <td>0.501961</td>\n",
              "      <td>0.788235</td>\n",
              "      <td>...</td>\n",
              "      <td>0.772549</td>\n",
              "      <td>0.713725</td>\n",
              "      <td>0.635294</td>\n",
              "      <td>0.239216</td>\n",
              "      <td>0.000000</td>\n",
              "      <td>0.0</td>\n",
              "      <td>0.000000</td>\n",
              "      <td>0.0</td>\n",
              "      <td>0.0</td>\n",
              "      <td>0.0</td>\n",
              "      <td>0.0</td>\n",
              "      <td>0.0</td>\n",
              "      <td>0.0</td>\n",
              "      <td>0.0</td>\n",
              "      <td>0.000000</td>\n",
              "      <td>0.000000</td>\n",
              "      <td>0.000000</td>\n",
              "      <td>0.000000</td>\n",
              "      <td>0.0</td>\n",
              "      <td>0.000000</td>\n",
              "      <td>0.117647</td>\n",
              "      <td>0.282353</td>\n",
              "      <td>0.372549</td>\n",
              "      <td>0.427451</td>\n",
              "      <td>0.435294</td>\n",
              "      <td>0.435294</td>\n",
              "      <td>0.415686</td>\n",
              "      <td>0.396078</td>\n",
              "      <td>0.278431</td>\n",
              "      <td>0.047059</td>\n",
              "      <td>0.0</td>\n",
              "      <td>0.000000</td>\n",
              "      <td>0.000000</td>\n",
              "      <td>0.000000</td>\n",
              "      <td>0.000000</td>\n",
              "      <td>0.0</td>\n",
              "      <td>0.0</td>\n",
              "      <td>0.0</td>\n",
              "      <td>6</td>\n",
              "      <td>Shirt</td>\n",
              "    </tr>\n",
              "  </tbody>\n",
              "</table>\n",
              "<p>5 rows × 786 columns</p>\n",
              "</div>"
            ],
            "text/plain": [
              "    z0   z1   z2        z3   z4  ...  z781  z782  z783  label       class\n",
              "0  0.0  0.0  0.0  0.000000  0.0  ...   0.0   0.0   0.0      9  Ankle boot\n",
              "1  0.0  0.0  0.0  0.000000  0.0  ...   0.0   0.0   0.0      2    Pullover\n",
              "2  0.0  0.0  0.0  0.000000  0.0  ...   0.0   0.0   0.0      1     Trouser\n",
              "3  0.0  0.0  0.0  0.000000  0.0  ...   0.0   0.0   0.0      1     Trouser\n",
              "4  0.0  0.0  0.0  0.007843  0.0  ...   0.0   0.0   0.0      6       Shirt\n",
              "\n",
              "[5 rows x 786 columns]"
            ]
          },
          "metadata": {
            "tags": []
          },
          "execution_count": 49
        }
      ]
    },
    {
      "cell_type": "markdown",
      "metadata": {
        "id": "vSxMPe7n-BRD",
        "colab_type": "text"
      },
      "source": [
        "Now we have our data reshaped into the $784D$ vectors, we can classify the images using a feed forward artifical neural network.\n",
        "\n"
      ]
    },
    {
      "cell_type": "markdown",
      "metadata": {
        "id": "Vv36QfGvgkTQ",
        "colab_type": "text"
      },
      "source": [
        "## Question 2: Neural Network\n",
        "In this question we will build different neural network models. \n",
        "\n",
        "### Question 2.1) Pullovers vs. Coats. \n",
        "\n",
        "Build a neural network to your liking and train it for 50 epochs with a 0.2 train/validation split. You will want to use binary cross entropy (\"bce\") loss as the loss function. See if you can tune your model to achieve 70% accuracy."
      ]
    },
    {
      "cell_type": "code",
      "metadata": {
        "id": "7EXXqZmah9ms",
        "colab_type": "code",
        "colab": {}
      },
      "source": [
        "from tensorflow.keras.layers import Input, Dense, Dropout # only use these layers\n",
        "from tensorflow.keras.models import Model, Sequential\n",
        "from tensorflow.keras.optimizers import * # you can use any optimizer\n",
        "\n",
        "# DEFINE YOUR MODEL HERE\n",
        "model = Sequential()\n",
        "model.add(Dense(units=100, input_dim=784, activation= 'relu', kernel_regularizer=keras.regularizers.l2(l=0.001) ))\n",
        "model.add(Dense(units=10, activation= 'relu',kernel_regularizer=keras.regularizers.l2(l=0.001) ))\n",
        "model.add(Dense(units=1, activation= 'sigmoid' ))"
      ],
      "execution_count": 50,
      "outputs": []
    },
    {
      "cell_type": "code",
      "metadata": {
        "id": "Fyf3VAHEiFXy",
        "colab_type": "code",
        "colab": {
          "base_uri": "https://localhost:8080/",
          "height": 255
        },
        "outputId": "a06bf10e-9b97-414f-cc4c-17234a9456d1"
      },
      "source": [
        "# Show a summary of your model\n",
        "model.summary()"
      ],
      "execution_count": 51,
      "outputs": [
        {
          "output_type": "stream",
          "text": [
            "Model: \"sequential_3\"\n",
            "_________________________________________________________________\n",
            "Layer (type)                 Output Shape              Param #   \n",
            "=================================================================\n",
            "dense_9 (Dense)              (None, 100)               78500     \n",
            "_________________________________________________________________\n",
            "dense_10 (Dense)             (None, 10)                1010      \n",
            "_________________________________________________________________\n",
            "dense_11 (Dense)             (None, 1)                 11        \n",
            "=================================================================\n",
            "Total params: 79,521\n",
            "Trainable params: 79,521\n",
            "Non-trainable params: 0\n",
            "_________________________________________________________________\n"
          ],
          "name": "stdout"
        }
      ]
    },
    {
      "cell_type": "code",
      "metadata": {
        "id": "Xd4FEmAzhBWm",
        "colab_type": "code",
        "colab": {}
      },
      "source": [
        "# A function for getting a subset of the data\n",
        "def get_data_subset(df, classes=[], shuffle=True, shuffle_seed=42):\n",
        "    \"\"\"\n",
        "    Used to retrieve columns from df\n",
        "    \"\"\"\n",
        "    if classes == []:\n",
        "        print(\"Pleas\")\n",
        "    else:\n",
        "        df_filtered = df[(df[\"class\"] == classes[0]) | (df[\"class\"] == classes[1])].copy()\n",
        "        df_filtered[\"binary_label\"] = 0\n",
        "        df_filtered.loc[df[\"class\"] == classes[1], \"binary_label\"] = 1\n",
        "        data = df_filtered.filter(regex=(\"z[0-9]+\")).values\n",
        "        labels = df_filtered[\"binary_label\"].values\n",
        "        if shuffle:\n",
        "            np.random.seed(shuffle_seed)\n",
        "            np.random.shuffle(data)\n",
        "            np.random.seed(shuffle_seed)\n",
        "            np.random.shuffle(labels)\n",
        "\n",
        "    return data, labels.reshape(-1,1)"
      ],
      "execution_count": 52,
      "outputs": []
    },
    {
      "cell_type": "code",
      "metadata": {
        "id": "NqPfiJkZiHjr",
        "colab_type": "code",
        "colab": {
          "base_uri": "https://localhost:8080/",
          "height": 136
        },
        "outputId": "8e671d44-263c-4f1d-9acc-d44288223161"
      },
      "source": [
        "\n",
        "X, y = get_data_subset(df_img_test, classes = [\"Coat\", \"Pullover\"]) ### YOUR CODE HERE ###\n",
        "print(X)"
      ],
      "execution_count": 53,
      "outputs": [
        {
          "output_type": "stream",
          "text": [
            "[[0.         0.         0.         ... 0.         0.         0.        ]\n",
            " [0.         0.         0.         ... 0.         0.         0.        ]\n",
            " [0.         0.         0.         ... 0.         0.         0.        ]\n",
            " ...\n",
            " [0.         0.         0.         ... 0.         0.         0.        ]\n",
            " [0.         0.         0.         ... 0.28627451 0.         0.        ]\n",
            " [0.         0.         0.         ... 0.         0.         0.        ]]\n"
          ],
          "name": "stdout"
        }
      ]
    },
    {
      "cell_type": "code",
      "metadata": {
        "id": "vd5TyTGUiJU7",
        "colab_type": "code",
        "colab": {}
      },
      "source": [
        "# Compile your model with your chosen optimizer, binary cross entropy for the loss, and accuracy as the metric\n",
        "model.compile(optimizer = Adagrad(),\n",
        "              loss='binary_crossentropy', \n",
        "              metrics = ['accuracy'])\n",
        "\n"
      ],
      "execution_count": 54,
      "outputs": []
    },
    {
      "cell_type": "code",
      "metadata": {
        "id": "9jD9zSj_ifjq",
        "colab_type": "code",
        "colab": {
          "base_uri": "https://localhost:8080/",
          "height": 1000
        },
        "outputId": "0707c237-bfd4-4a45-91e1-d0277d213b49"
      },
      "source": [
        "# Call fit on your model passing in the train_images, train_labels data above, train for 50 epochs 0.2 train/validation split\n",
        "hist = model.fit(X, y,\n",
        "                    epochs = 50,\n",
        "                    validation_split = 0.2) "
      ],
      "execution_count": 55,
      "outputs": [
        {
          "output_type": "stream",
          "text": [
            "Epoch 1/50\n",
            "50/50 [==============================] - 0s 6ms/step - loss: 0.8865 - accuracy: 0.5581 - val_loss: 0.8805 - val_accuracy: 0.6050\n",
            "Epoch 2/50\n",
            "50/50 [==============================] - 0s 4ms/step - loss: 0.8772 - accuracy: 0.6394 - val_loss: 0.8719 - val_accuracy: 0.6650\n",
            "Epoch 3/50\n",
            "50/50 [==============================] - 0s 4ms/step - loss: 0.8649 - accuracy: 0.6888 - val_loss: 0.8595 - val_accuracy: 0.7050\n",
            "Epoch 4/50\n",
            "50/50 [==============================] - 0s 4ms/step - loss: 0.8495 - accuracy: 0.7088 - val_loss: 0.8459 - val_accuracy: 0.6800\n",
            "Epoch 5/50\n",
            "50/50 [==============================] - 0s 4ms/step - loss: 0.8309 - accuracy: 0.7325 - val_loss: 0.8296 - val_accuracy: 0.7025\n",
            "Epoch 6/50\n",
            "50/50 [==============================] - 0s 4ms/step - loss: 0.8134 - accuracy: 0.7588 - val_loss: 0.8170 - val_accuracy: 0.7075\n",
            "Epoch 7/50\n",
            "50/50 [==============================] - 0s 7ms/step - loss: 0.8003 - accuracy: 0.7644 - val_loss: 0.8046 - val_accuracy: 0.6975\n",
            "Epoch 8/50\n",
            "50/50 [==============================] - 0s 4ms/step - loss: 0.7872 - accuracy: 0.7744 - val_loss: 0.7938 - val_accuracy: 0.6925\n",
            "Epoch 9/50\n",
            "50/50 [==============================] - 0s 4ms/step - loss: 0.7757 - accuracy: 0.7763 - val_loss: 0.7857 - val_accuracy: 0.7150\n",
            "Epoch 10/50\n",
            "50/50 [==============================] - 0s 4ms/step - loss: 0.7648 - accuracy: 0.7869 - val_loss: 0.7771 - val_accuracy: 0.7175\n",
            "Epoch 11/50\n",
            "50/50 [==============================] - 0s 4ms/step - loss: 0.7553 - accuracy: 0.7812 - val_loss: 0.7699 - val_accuracy: 0.7300\n",
            "Epoch 12/50\n",
            "50/50 [==============================] - 0s 4ms/step - loss: 0.7461 - accuracy: 0.7894 - val_loss: 0.7609 - val_accuracy: 0.7225\n",
            "Epoch 13/50\n",
            "50/50 [==============================] - 0s 4ms/step - loss: 0.7378 - accuracy: 0.7919 - val_loss: 0.7548 - val_accuracy: 0.7350\n",
            "Epoch 14/50\n",
            "50/50 [==============================] - 0s 4ms/step - loss: 0.7305 - accuracy: 0.7919 - val_loss: 0.7481 - val_accuracy: 0.7300\n",
            "Epoch 15/50\n",
            "50/50 [==============================] - 0s 4ms/step - loss: 0.7225 - accuracy: 0.7919 - val_loss: 0.7423 - val_accuracy: 0.7275\n",
            "Epoch 16/50\n",
            "50/50 [==============================] - 0s 4ms/step - loss: 0.7159 - accuracy: 0.7919 - val_loss: 0.7370 - val_accuracy: 0.7450\n",
            "Epoch 17/50\n",
            "50/50 [==============================] - 0s 4ms/step - loss: 0.7090 - accuracy: 0.8044 - val_loss: 0.7320 - val_accuracy: 0.7450\n",
            "Epoch 18/50\n",
            "50/50 [==============================] - 0s 4ms/step - loss: 0.7028 - accuracy: 0.8012 - val_loss: 0.7272 - val_accuracy: 0.7475\n",
            "Epoch 19/50\n",
            "50/50 [==============================] - 0s 4ms/step - loss: 0.6970 - accuracy: 0.7962 - val_loss: 0.7225 - val_accuracy: 0.7475\n",
            "Epoch 20/50\n",
            "50/50 [==============================] - 0s 4ms/step - loss: 0.6913 - accuracy: 0.8044 - val_loss: 0.7188 - val_accuracy: 0.7600\n",
            "Epoch 21/50\n",
            "50/50 [==============================] - 0s 4ms/step - loss: 0.6864 - accuracy: 0.8087 - val_loss: 0.7134 - val_accuracy: 0.7575\n",
            "Epoch 22/50\n",
            "50/50 [==============================] - 0s 4ms/step - loss: 0.6804 - accuracy: 0.8087 - val_loss: 0.7096 - val_accuracy: 0.7675\n",
            "Epoch 23/50\n",
            "50/50 [==============================] - 0s 4ms/step - loss: 0.6757 - accuracy: 0.8156 - val_loss: 0.7056 - val_accuracy: 0.7700\n",
            "Epoch 24/50\n",
            "50/50 [==============================] - 0s 4ms/step - loss: 0.6701 - accuracy: 0.8138 - val_loss: 0.7017 - val_accuracy: 0.7600\n",
            "Epoch 25/50\n",
            "50/50 [==============================] - 0s 5ms/step - loss: 0.6662 - accuracy: 0.8175 - val_loss: 0.6987 - val_accuracy: 0.7700\n",
            "Epoch 26/50\n",
            "50/50 [==============================] - 0s 4ms/step - loss: 0.6612 - accuracy: 0.8150 - val_loss: 0.6957 - val_accuracy: 0.7750\n",
            "Epoch 27/50\n",
            "50/50 [==============================] - 0s 4ms/step - loss: 0.6574 - accuracy: 0.8194 - val_loss: 0.6916 - val_accuracy: 0.7625\n",
            "Epoch 28/50\n",
            "50/50 [==============================] - 0s 4ms/step - loss: 0.6527 - accuracy: 0.8206 - val_loss: 0.6891 - val_accuracy: 0.7775\n",
            "Epoch 29/50\n",
            "50/50 [==============================] - 0s 4ms/step - loss: 0.6487 - accuracy: 0.8219 - val_loss: 0.6850 - val_accuracy: 0.7825\n",
            "Epoch 30/50\n",
            "50/50 [==============================] - 0s 4ms/step - loss: 0.6442 - accuracy: 0.8219 - val_loss: 0.6814 - val_accuracy: 0.7775\n",
            "Epoch 31/50\n",
            "50/50 [==============================] - 0s 4ms/step - loss: 0.6410 - accuracy: 0.8256 - val_loss: 0.6781 - val_accuracy: 0.7875\n",
            "Epoch 32/50\n",
            "50/50 [==============================] - 0s 4ms/step - loss: 0.6365 - accuracy: 0.8281 - val_loss: 0.6743 - val_accuracy: 0.7975\n",
            "Epoch 33/50\n",
            "50/50 [==============================] - 0s 4ms/step - loss: 0.6326 - accuracy: 0.8281 - val_loss: 0.6709 - val_accuracy: 0.7875\n",
            "Epoch 34/50\n",
            "50/50 [==============================] - 0s 4ms/step - loss: 0.6290 - accuracy: 0.8294 - val_loss: 0.6668 - val_accuracy: 0.8050\n",
            "Epoch 35/50\n",
            "50/50 [==============================] - 0s 4ms/step - loss: 0.6253 - accuracy: 0.8306 - val_loss: 0.6638 - val_accuracy: 0.8050\n",
            "Epoch 36/50\n",
            "50/50 [==============================] - 0s 4ms/step - loss: 0.6215 - accuracy: 0.8306 - val_loss: 0.6617 - val_accuracy: 0.7775\n",
            "Epoch 37/50\n",
            "50/50 [==============================] - 0s 4ms/step - loss: 0.6179 - accuracy: 0.8306 - val_loss: 0.6573 - val_accuracy: 0.7850\n",
            "Epoch 38/50\n",
            "50/50 [==============================] - 0s 4ms/step - loss: 0.6139 - accuracy: 0.8375 - val_loss: 0.6541 - val_accuracy: 0.7900\n",
            "Epoch 39/50\n",
            "50/50 [==============================] - 0s 4ms/step - loss: 0.6102 - accuracy: 0.8350 - val_loss: 0.6519 - val_accuracy: 0.7950\n",
            "Epoch 40/50\n",
            "50/50 [==============================] - 0s 4ms/step - loss: 0.6076 - accuracy: 0.8381 - val_loss: 0.6494 - val_accuracy: 0.8050\n",
            "Epoch 41/50\n",
            "50/50 [==============================] - 0s 4ms/step - loss: 0.6044 - accuracy: 0.8381 - val_loss: 0.6466 - val_accuracy: 0.8025\n",
            "Epoch 42/50\n",
            "50/50 [==============================] - 0s 4ms/step - loss: 0.6003 - accuracy: 0.8381 - val_loss: 0.6453 - val_accuracy: 0.8000\n",
            "Epoch 43/50\n",
            "50/50 [==============================] - 0s 4ms/step - loss: 0.5974 - accuracy: 0.8400 - val_loss: 0.6432 - val_accuracy: 0.8025\n",
            "Epoch 44/50\n",
            "50/50 [==============================] - 0s 4ms/step - loss: 0.5956 - accuracy: 0.8375 - val_loss: 0.6406 - val_accuracy: 0.8075\n",
            "Epoch 45/50\n",
            "50/50 [==============================] - 0s 5ms/step - loss: 0.5929 - accuracy: 0.8419 - val_loss: 0.6388 - val_accuracy: 0.8075\n",
            "Epoch 46/50\n",
            "50/50 [==============================] - 0s 4ms/step - loss: 0.5903 - accuracy: 0.8406 - val_loss: 0.6370 - val_accuracy: 0.8075\n",
            "Epoch 47/50\n",
            "50/50 [==============================] - 0s 4ms/step - loss: 0.5880 - accuracy: 0.8425 - val_loss: 0.6352 - val_accuracy: 0.8125\n",
            "Epoch 48/50\n",
            "50/50 [==============================] - 0s 4ms/step - loss: 0.5861 - accuracy: 0.8425 - val_loss: 0.6342 - val_accuracy: 0.8025\n",
            "Epoch 49/50\n",
            "50/50 [==============================] - 0s 4ms/step - loss: 0.5837 - accuracy: 0.8419 - val_loss: 0.6331 - val_accuracy: 0.8000\n",
            "Epoch 50/50\n",
            "50/50 [==============================] - 0s 4ms/step - loss: 0.5815 - accuracy: 0.8431 - val_loss: 0.6311 - val_accuracy: 0.8050\n"
          ],
          "name": "stdout"
        }
      ]
    },
    {
      "cell_type": "code",
      "metadata": {
        "colab_type": "code",
        "id": "DKqfHYZOjjYM",
        "colab": {}
      },
      "source": [
        "def plot_losses(hist):\n",
        "    plt.plot(hist.history['loss'])\n",
        "    plt.plot(hist.history['val_loss'])\n",
        "    plt.title('Model Loss')\n",
        "    plt.ylabel('Loss')\n",
        "    plt.xlabel('Epoch')\n",
        "    plt.legend(['Train', 'Val'])\n",
        "    plt.show()\n",
        "def plot_accuracies(hist):\n",
        "    plt.plot(hist.history['accuracy'])\n",
        "    plt.plot(hist.history['val_accuracy'])\n",
        "    plt.title('Model Accuracy')\n",
        "    plt.ylabel('Accuracy')\n",
        "    plt.xlabel('Epoch')\n",
        "    plt.legend(['Train', 'Val'])\n",
        "    plt.show()"
      ],
      "execution_count": 56,
      "outputs": []
    },
    {
      "cell_type": "code",
      "metadata": {
        "colab_type": "code",
        "id": "txkzNQ07jjYR",
        "colab": {
          "base_uri": "https://localhost:8080/",
          "height": 617
        },
        "outputId": "1b6ca9be-805b-4ac8-ef5e-f67ca917bb22"
      },
      "source": [
        "# Plot your losses and accuracies\n",
        "plot_losses(hist)\n",
        "plot_accuracies(hist)"
      ],
      "execution_count": 57,
      "outputs": [
        {
          "output_type": "display_data",
          "data": {
            "image/png": "[encoded data removed]",
            "text/plain": [
              "<Figure size 432x288 with 1 Axes>"
            ]
          },
          "metadata": {
            "tags": []
          }
        },
        {
          "output_type": "display_data",
          "data": {
            "image/png": "[encoded data removed]",
            "text/plain": [
              "<Figure size 432x288 with 1 Axes>"
            ]
          },
          "metadata": {
            "tags": []
          }
        }
      ]
    },
    {
      "cell_type": "markdown",
      "metadata": {
        "colab_type": "text",
        "id": "WktCDSpCjcsO"
      },
      "source": [
        "### Question 2.2) Observation\n",
        "How did your neural network perform? What hyperparameters and optimizer did you choose?"
      ]
    },
    {
      "cell_type": "markdown",
      "metadata": {
        "colab_type": "text",
        "id": "HNnkjhAijcsS"
      },
      "source": [
        "#### YOUR ANSWER HERE\n",
        "My Neural Network performed very well and after some fine tuning I was able to achieve more than 80% accuracy. I experimented with the Adagrad optimizer while also taking advantage of the Relu and Sigmoid activation functions to correct classify the images into two categories. Overall, I was able to gain this accuracy in 50 epochs. "
      ]
    },
    {
      "cell_type": "markdown",
      "metadata": {
        "id": "tCUyOXpIKOys",
        "colab_type": "text"
      },
      "source": [
        "### Question 2.3) Multi-class Neural Network"
      ]
    },
    {
      "cell_type": "markdown",
      "metadata": {
        "id": "exBaTpbhWF2d",
        "colab_type": "text"
      },
      "source": [
        "Next, we will build a neural network toimplement a multi-class classification. Remember that your input size is (784,) and the output layer needs 10 nodes (also remember that there is a certain activation function that needs to be encorporated with the output layer). See if your model can get about 70% classification accuracy.\n",
        "\n",
        "**Hint: When compiling your model use loss=tf.keras.losses.[SparseCategoricalCrossentropy](https://www.tensorflow.org/api_docs/python/tf/keras/losses/SparseCategoricalCrossentropy) "
      ]
    },
    {
      "cell_type": "code",
      "metadata": {
        "id": "fz_g2Qm6DTgJ",
        "colab_type": "code",
        "colab": {}
      },
      "source": [
        "from tensorflow.keras.layers import Input, Dense # only use these layers\n",
        "from tensorflow.keras.models import Model\n",
        "from tensorflow.keras.optimizers import * # you can use any optimizer\n",
        "\n",
        "# DEFINE YOUR MODEL HERE\n",
        "model = Sequential()\n",
        "model.add(Dense(units=200, input_dim=784, activation= 'relu', kernel_regularizer=keras.regularizers.l2(l=0.001) ))\n",
        "model.add(Dropout(0.8))\n",
        "model.add(Dense(units=100, activation= 'relu',kernel_regularizer=keras.regularizers.l2(l=0.001) ))\n",
        "model.add(Dropout(0.3))\n",
        "model.add(Dense(units=10, activation= 'softmax' ))\n"
      ],
      "execution_count": 58,
      "outputs": []
    },
    {
      "cell_type": "code",
      "metadata": {
        "id": "6HU26g16DxVG",
        "colab_type": "code",
        "colab": {
          "base_uri": "https://localhost:8080/",
          "height": 323
        },
        "outputId": "895cd159-1af6-4725-e356-313c4434e9b8"
      },
      "source": [
        "# Show a summary of your model\n",
        "model.summary()"
      ],
      "execution_count": 59,
      "outputs": [
        {
          "output_type": "stream",
          "text": [
            "Model: \"sequential_4\"\n",
            "_________________________________________________________________\n",
            "Layer (type)                 Output Shape              Param #   \n",
            "=================================================================\n",
            "dense_12 (Dense)             (None, 200)               157000    \n",
            "_________________________________________________________________\n",
            "dropout_4 (Dropout)          (None, 200)               0         \n",
            "_________________________________________________________________\n",
            "dense_13 (Dense)             (None, 100)               20100     \n",
            "_________________________________________________________________\n",
            "dropout_5 (Dropout)          (None, 100)               0         \n",
            "_________________________________________________________________\n",
            "dense_14 (Dense)             (None, 10)                1010      \n",
            "=================================================================\n",
            "Total params: 178,110\n",
            "Trainable params: 178,110\n",
            "Non-trainable params: 0\n",
            "_________________________________________________________________\n"
          ],
          "name": "stdout"
        }
      ]
    },
    {
      "cell_type": "code",
      "metadata": {
        "id": "JDygMwK8JklW",
        "colab_type": "code",
        "colab": {}
      },
      "source": [
        "# Compile your model with your chosen optimizer, binary cross entropy for the loss, and accuracy as the metric\n",
        "\n",
        "\n",
        "model.compile(optimizer = Adagrad(),\n",
        "              loss= tf.keras.losses.SparseCategoricalCrossentropy(), \n",
        "              metrics = ['accuracy'])"
      ],
      "execution_count": 60,
      "outputs": []
    },
    {
      "cell_type": "code",
      "metadata": {
        "id": "kG9WFebDHV-k",
        "colab_type": "code",
        "colab": {
          "base_uri": "https://localhost:8080/",
          "height": 697
        },
        "outputId": "2178dab8-3e88-4ae1-a05d-dd0706137466"
      },
      "source": [
        "# Call fit on your model passing in the train_images, train_labels data above with validation split of 0.2 and train for 100 epochs\n",
        "\n",
        "hist =  model.fit(train_images,train_labels,\n",
        "                    epochs = 20,\n",
        "                    validation_split = 0.2)"
      ],
      "execution_count": 61,
      "outputs": [
        {
          "output_type": "stream",
          "text": [
            "Epoch 1/20\n",
            "1500/1500 [==============================] - 5s 3ms/step - loss: 2.3610 - accuracy: 0.3254 - val_loss: 1.7496 - val_accuracy: 0.6672\n",
            "Epoch 2/20\n",
            "1500/1500 [==============================] - 5s 3ms/step - loss: 1.9276 - accuracy: 0.4842 - val_loss: 1.4606 - val_accuracy: 0.6973\n",
            "Epoch 3/20\n",
            "1500/1500 [==============================] - 5s 3ms/step - loss: 1.7447 - accuracy: 0.5438 - val_loss: 1.3331 - val_accuracy: 0.7154\n",
            "Epoch 4/20\n",
            "1500/1500 [==============================] - 5s 4ms/step - loss: 1.6390 - accuracy: 0.5767 - val_loss: 1.2623 - val_accuracy: 0.7333\n",
            "Epoch 5/20\n",
            "1500/1500 [==============================] - 5s 3ms/step - loss: 1.5697 - accuracy: 0.5995 - val_loss: 1.2127 - val_accuracy: 0.7396\n",
            "Epoch 6/20\n",
            "1500/1500 [==============================] - 5s 3ms/step - loss: 1.5161 - accuracy: 0.6144 - val_loss: 1.1783 - val_accuracy: 0.7490\n",
            "Epoch 7/20\n",
            "1500/1500 [==============================] - 5s 3ms/step - loss: 1.4708 - accuracy: 0.6307 - val_loss: 1.1479 - val_accuracy: 0.7539\n",
            "Epoch 8/20\n",
            "1500/1500 [==============================] - 5s 3ms/step - loss: 1.4453 - accuracy: 0.6377 - val_loss: 1.1300 - val_accuracy: 0.7602\n",
            "Epoch 9/20\n",
            "1500/1500 [==============================] - 5s 3ms/step - loss: 1.4154 - accuracy: 0.6465 - val_loss: 1.1086 - val_accuracy: 0.7606\n",
            "Epoch 10/20\n",
            "1500/1500 [==============================] - 5s 3ms/step - loss: 1.3863 - accuracy: 0.6561 - val_loss: 1.0902 - val_accuracy: 0.7641\n",
            "Epoch 11/20\n",
            "1500/1500 [==============================] - 5s 4ms/step - loss: 1.3697 - accuracy: 0.6599 - val_loss: 1.0759 - val_accuracy: 0.7688\n",
            "Epoch 12/20\n",
            "1500/1500 [==============================] - 5s 3ms/step - loss: 1.3464 - accuracy: 0.6669 - val_loss: 1.0620 - val_accuracy: 0.7710\n",
            "Epoch 13/20\n",
            "1500/1500 [==============================] - 5s 3ms/step - loss: 1.3230 - accuracy: 0.6731 - val_loss: 1.0482 - val_accuracy: 0.7746\n",
            "Epoch 14/20\n",
            "1500/1500 [==============================] - 5s 3ms/step - loss: 1.3024 - accuracy: 0.6801 - val_loss: 1.0365 - val_accuracy: 0.7775\n",
            "Epoch 15/20\n",
            "1500/1500 [==============================] - 5s 3ms/step - loss: 1.2860 - accuracy: 0.6852 - val_loss: 1.0245 - val_accuracy: 0.7803\n",
            "Epoch 16/20\n",
            "1500/1500 [==============================] - 5s 3ms/step - loss: 1.2786 - accuracy: 0.6863 - val_loss: 1.0153 - val_accuracy: 0.7819\n",
            "Epoch 17/20\n",
            "1500/1500 [==============================] - 5s 3ms/step - loss: 1.2612 - accuracy: 0.6924 - val_loss: 1.0063 - val_accuracy: 0.7841\n",
            "Epoch 18/20\n",
            "1500/1500 [==============================] - 5s 3ms/step - loss: 1.2518 - accuracy: 0.6952 - val_loss: 0.9975 - val_accuracy: 0.7867\n",
            "Epoch 19/20\n",
            "1500/1500 [==============================] - 5s 3ms/step - loss: 1.2394 - accuracy: 0.6975 - val_loss: 0.9901 - val_accuracy: 0.7892\n",
            "Epoch 20/20\n",
            "1500/1500 [==============================] - 5s 3ms/step - loss: 1.2232 - accuracy: 0.7030 - val_loss: 0.9810 - val_accuracy: 0.7912\n"
          ],
          "name": "stdout"
        }
      ]
    },
    {
      "cell_type": "code",
      "metadata": {
        "id": "okB05Mf0Hg9S",
        "colab_type": "code",
        "colab": {}
      },
      "source": [
        "def plot_losses(hist):\n",
        "    plt.plot(hist.history['loss'])\n",
        "    plt.plot(hist.history['val_loss'])\n",
        "    plt.title('Model Loss')\n",
        "    plt.ylabel('Loss')\n",
        "    plt.xlabel('Epoch')\n",
        "    plt.legend(['Train', 'Val'])\n",
        "    plt.show()\n",
        "def plot_accuracies(hist):\n",
        "    plt.plot(hist.history['accuracy'])\n",
        "    plt.plot(hist.history['val_accuracy'])\n",
        "    plt.title('Model Accuracy')\n",
        "    plt.ylabel('Accuracy')\n",
        "    plt.xlabel('Epoch')\n",
        "    plt.legend(['Train', 'Val'])\n",
        "    plt.show()"
      ],
      "execution_count": 62,
      "outputs": []
    },
    {
      "cell_type": "code",
      "metadata": {
        "id": "kwLRaQ1KMuOl",
        "colab_type": "code",
        "colab": {
          "base_uri": "https://localhost:8080/",
          "height": 617
        },
        "outputId": "2468c4c7-6eea-4cd6-b695-97a3d0382fdc"
      },
      "source": [
        "# Plot your losses and accuracies\n",
        "plot_losses(hist)\n",
        "plot_accuracies(hist)"
      ],
      "execution_count": 63,
      "outputs": [
        {
          "output_type": "display_data",
          "data": {
            "image/png": "[encoded data removed]",
            "text/plain": [
              "<Figure size 432x288 with 1 Axes>"
            ]
          },
          "metadata": {
            "tags": []
          }
        },
        {
          "output_type": "display_data",
          "data": {
            "image/png": "[encoded data removed]",
            "text/plain": [
              "<Figure size 432x288 with 1 Axes>"
            ]
          },
          "metadata": {
            "tags": []
          }
        }
      ]
    },
    {
      "cell_type": "markdown",
      "metadata": {
        "id": "aI9sQv21VXzI",
        "colab_type": "text"
      },
      "source": [
        "### Question 2.4) Observation\n",
        "How did your neural network perform? What hyperparameters and optimizer did you choose?\n"
      ]
    },
    {
      "cell_type": "markdown",
      "metadata": {
        "id": "wnsDckNTWWnI",
        "colab_type": "text"
      },
      "source": [
        "My neural networks performed well overall, achieving an accuracy around 80%. I chose to continue using the Adagrad optimizer which made a significant difference compared to Adam. I also chose to use the l2 regulizer, but this did not have too significant of an effect on the accuracy. I made my network with 1 hidden layer and roughly 170,000 total perameters. Finally, by choosing the softmax activation function as my output layer, I was able to achieve the multi-class classification through categorical cross entropy with an accuracy of 81%!"
      ]
    },
    {
      "cell_type": "markdown",
      "metadata": {
        "_uuid": "bca889c929920fd204e28dd8ba3bf747abfe4866",
        "id": "HwHNu13zLhbq",
        "colab_type": "text"
      },
      "source": [
        "## Question 3: Building a Convolutional Neural Network\n",
        "\n",
        "In this exercise, we will build a classifier model that is able to distinguish between 10 different classes of images - airplanes, cars, birds, cats, deer, dogs, frogs, horses, ships, and trucks. We will follow these steps:\n",
        "\n",
        "1. Explore the example data\n",
        "2. Build a small convnet to solve our classification problem\n",
        "3. Evaluate training and validation accuracy"
      ]
    },
    {
      "cell_type": "markdown",
      "metadata": {
        "id": "rxedzNz3Lhbq",
        "colab_type": "text"
      },
      "source": [
        "###  Data Exploration and Preparation\n",
        "\n",
        "We'll start by downloading the CIFAR-10 dataset from Keras.\n",
        "\n",
        "This is a link to the dataset documentation:\n",
        "https://keras.io/datasets/#cifar10-small-image-classification\n",
        "\n",
        "And a link to the dataset source:\n",
        "https://www.cs.toronto.edu/~kriz/cifar.html\n",
        "\n",
        "Be sure to set your Runtime environment to include a GPU, as it will speed up the training considerably (this time that's important!)."
      ]
    },
    {
      "cell_type": "markdown",
      "metadata": {
        "id": "hT9YYUNlLhbr",
        "colab_type": "text"
      },
      "source": [
        "#### Loading data into local variables"
      ]
    },
    {
      "cell_type": "code",
      "metadata": {
        "id": "qIPX5X2VLhbs",
        "colab_type": "code",
        "colab": {}
      },
      "source": [
        "from keras.datasets import cifar10\n",
        "\n",
        "# Fetch the data:\n",
        "(X, y), (_, _) = cifar10.load_data()"
      ],
      "execution_count": 53,
      "outputs": []
    },
    {
      "cell_type": "markdown",
      "metadata": {
        "_uuid": "892a9fe20cb70273b84d120b69e8d8cef65c7e80",
        "id": "sI_-5NB-Lhb3",
        "colab_type": "text"
      },
      "source": [
        "####  Import needed functions and libraries"
      ]
    },
    {
      "cell_type": "code",
      "metadata": {
        "_uuid": "743b574dc8902f9376b0293208139192ed5717d1",
        "colab_type": "code",
        "id": "z19bVm7o9zeu",
        "colab": {}
      },
      "source": [
        "# Ignore the warnings - Otherwise, TensorFlow tends to innundate one with far too many warnings.\n",
        "import warnings\n",
        "warnings.filterwarnings('always')\n",
        "warnings.filterwarnings('ignore')\n",
        "\n",
        "# For matrix operations and dataframes.\n",
        "import numpy as np\n",
        "\n",
        "# Data visualizaton.\n",
        "import matplotlib.pyplot as plt\n",
        "from matplotlib import style\n",
        "import seaborn as sns\n",
        "import random as rn\n",
        " \n",
        "# Configure some defaults.\n",
        "%matplotlib inline  \n",
        "style.use('fivethirtyeight')\n",
        "sns.set(style='whitegrid',color_codes=True)\n",
        "\n",
        "# Useful deep learning functions.\n",
        "from tensorflow.keras import backend as K\n",
        "from tensorflow.keras.models import Sequential\n",
        "from tensorflow.keras.layers import Dense\n",
        "from tensorflow.keras.optimizers import Adam, SGD, Adagrad, Adadelta, RMSprop \n",
        "from tensorflow.keras.utils import to_categorical\n",
        "from tensorflow.keras.layers import Dropout, Flatten, Activation\n",
        "from tensorflow.keras.layers import Conv2D, MaxPooling2D\n",
        "from tensorflow.keras.regularizers import *\n",
        "import math\n",
        "\n",
        "# Powerful deep learning module.\n",
        "import tensorflow as tf\n",
        "\n",
        "# For dealing with data.\n",
        "import numpy as np  "
      ],
      "execution_count": 54,
      "outputs": []
    },
    {
      "cell_type": "markdown",
      "metadata": {
        "_uuid": "c24f32b5ef905f9c4df2a020be4419a77c80237e",
        "id": "892A1wjvLhb7",
        "colab_type": "text"
      },
      "source": [
        "#### Data Preparation & Exploration\n",
        "Let's take a look at a few of these images. Rerun this cell multiple times to see different images for each class.\n",
        "\n",
        "You may notice that these images look low fidelity, which is because they are! As we increase our image size, we also increase our model complexity. What's important is that our classes are still distinguishable from each other."
      ]
    },
    {
      "cell_type": "code",
      "metadata": {
        "_uuid": "a27c478fcac8675aadd40f96fd144a805475b681",
        "colab_type": "code",
        "id": "gPolpADLYv9p",
        "scrolled": true,
        "colab": {
          "base_uri": "https://localhost:8080/",
          "height": 367
        },
        "outputId": "be9af9f3-2e53-42f2-b8e0-0f72dff6ca75"
      },
      "source": [
        "fig, ax = plt.subplots(2, 5)\n",
        "fig.set_size_inches(10, 6)\n",
        "\n",
        "for i in range(2):\n",
        "    for j in range(5):\n",
        "        c = j + 5*i # Class counter\n",
        "        l = np.random.choice(np.where(y == c)[0], 1)[0] # Get a random image from class c\n",
        "        ax[i, j].imshow(X[l])\n",
        "        ax[i, j].set_title('Class: ' + str(y[l]))\n",
        "        # Hide grid lines\n",
        "        ax[i, j].grid(False)\n",
        "        # Hide axes ticks\n",
        "        ax[i, j].set_xticks([])\n",
        "        ax[i, j].set_yticks([])\n",
        "        \n",
        "plt.tight_layout()"
      ],
      "execution_count": 55,
      "outputs": [
        {
          "output_type": "display_data",
          "data": {
            "image/png": "[encoded data removed]",
            "text/plain": [
              "<Figure size 720x432 with 10 Axes>"
            ]
          },
          "metadata": {
            "tags": []
          }
        }
      ]
    },
    {
      "cell_type": "markdown",
      "metadata": {
        "id": "vddd-xejqVV7",
        "colab_type": "text"
      },
      "source": [
        "#### Let's take a look at the format of our data"
      ]
    },
    {
      "cell_type": "code",
      "metadata": {
        "id": "aSmQVBA7qaxd",
        "colab_type": "code",
        "colab": {
          "base_uri": "https://localhost:8080/",
          "height": 51
        },
        "outputId": "dc52f249-fb5d-4182-bca7-ae1cc71c428d"
      },
      "source": [
        "print('X (images)', X.shape)\n",
        "print('y (classes)', y.shape)"
      ],
      "execution_count": 56,
      "outputs": [
        {
          "output_type": "stream",
          "text": [
            "X (images) (50000, 32, 32, 3)\n",
            "y (classes) (50000, 1)\n"
          ],
          "name": "stdout"
        }
      ]
    },
    {
      "cell_type": "markdown",
      "metadata": {
        "id": "ytuPNJQWqkZX",
        "colab_type": "text"
      },
      "source": [
        "We can see that we have 50,000 samples, where each images is 32 by 32 pixels with 3 color channels: RGB.\n",
        "\n",
        "For each of these images, we have a single label for which class they each belong to."
      ]
    },
    {
      "cell_type": "markdown",
      "metadata": {
        "_uuid": "77ec9e39e572f004918ea99a6866ee3a06c68324",
        "id": "NCS6ejuoLhcH",
        "colab_type": "text"
      },
      "source": [
        "#### One-hot encode the labels, and normalize the data\n",
        "\n",
        "Similarly to previous exercises, we want to one hot encode our class labels. We also want to normalize our image data similarly to the previous question."
      ]
    },
    {
      "cell_type": "code",
      "metadata": {
        "id": "DT_F8m-vLhcI",
        "colab_type": "code",
        "colab": {
          "base_uri": "https://localhost:8080/",
          "height": 34
        },
        "outputId": "2b121454-7223-46d9-c497-d3f2644a96c8"
      },
      "source": [
        "# One-hot encode those integer values of class labels\n",
        "y = to_categorical(y, 10)\n",
        "\n",
        "# Normalize all entries to the interval [0, 1]\n",
        "X = X / 255\n",
        "y.shape"
      ],
      "execution_count": 57,
      "outputs": [
        {
          "output_type": "execute_result",
          "data": {
            "text/plain": [
              "(50000, 10)"
            ]
          },
          "metadata": {
            "tags": []
          },
          "execution_count": 57
        }
      ]
    },
    {
      "cell_type": "markdown",
      "metadata": {
        "_uuid": "b8952f9ac2af66841a9c000126de56b44301d3ce",
        "id": "H9PP4rQhLhdD",
        "colab_type": "text"
      },
      "source": [
        "### Question 3.1)\n",
        "Create your own deep learning architecture, and train it on the dataset above. If you're unsure where to start, begin by referencing the in class exercises. \n",
        "\n",
        "One suggestion is to add several convolution layers each followed by a maxpooling layer. Towards the end you can add one or more fully connected layers. Dropout layers are often useful after each fully connected layer for overfitting, and you can try experimenting with that parameter. Your model should be able to reach **70% validation accuracy**.\n",
        "\n",
        "You are responsible for your model architecture, hyperparameters, and optimizer. \n",
        "\n",
        "**HOWEVER, you are limited to a maximum of 50 epochs and 500,000 model parameters! You will lose points for exceeding these limits.**"
      ]
    },
    {
      "cell_type": "code",
      "metadata": {
        "id": "mVjSUo_9LhdE",
        "colab_type": "code",
        "colab": {}
      },
      "source": [
        "# This is where we define the architecture of our deep neural network.\n",
        "model = Sequential()\n",
        "\n",
        "#layer 1\n",
        "model.add(Conv2D(filters = 26,      \n",
        "                 kernel_size = (3, 3), \n",
        "                 strides=(1, 1),\n",
        "                 activation = 'relu', \n",
        "                 input_shape = (32, 32, 3)))\n",
        "\n",
        "model.add(MaxPooling2D(pool_size = (2, 2), strides=2))\n",
        "\n",
        "\n",
        "#layer 2\n",
        "model.add(Conv2D(filters = 32,      \n",
        "                 kernel_size = (3, 3), \n",
        "                 strides = (1,1),\n",
        "                 activation = 'relu'))\n",
        "\n",
        "model.add(MaxPooling2D(pool_size = (2, 2), strides=2))\n",
        "model.add(Flatten())\n",
        "\n",
        "#fully connected layers\n",
        "model.add(Dense(300, activation = 'relu', bias_regularizer=l2(0.01), kernel_regularizer=l2(0.001), activity_regularizer=l2(l=0.001)))  \n",
        "model.add(Dropout(0.7))\n",
        "model.add(Dense(56, activation = 'relu', bias_regularizer=l2(0.01) , kernel_regularizer=l2(0.001), activity_regularizer=l2(l=0.001))) \n",
        "#model.add(Dropout(0.2))\n",
        "model.add(Dense(10, activation = \"softmax\"))\n",
        "\n"
      ],
      "execution_count": 63,
      "outputs": []
    },
    {
      "cell_type": "code",
      "metadata": {
        "id": "PO003fD15wop",
        "colab_type": "code",
        "colab": {}
      },
      "source": [
        "# A batch is the size of each training chunk. We're implementing batch gradient descent, which is in between\n",
        "# stochastic gradient descent and full gradient descent.\n",
        "batch_size = 100 #I tried using batch_size = len(X) however the batchsize was too large \n",
        "\n",
        "# Each epoch goes through the entire training set once\n",
        "epochs = 50 ### MAXIMUM OF 50!"
      ],
      "execution_count": 64,
      "outputs": []
    },
    {
      "cell_type": "code",
      "metadata": {
        "id": "o4reatYS5edV",
        "colab_type": "code",
        "colab": {}
      },
      "source": [
        "opt =  RMSprop(lr = 0.0006,momentum=0.3, rho=0.8) \n",
        "\n",
        "model.compile(optimizer = Adam(learning_rate=0.0005, beta_1=0.9, beta_2=0.999),\n",
        "              loss = 'categorical_crossentropy',\n",
        "              metrics = ['accuracy'])"
      ],
      "execution_count": 65,
      "outputs": []
    },
    {
      "cell_type": "code",
      "metadata": {
        "id": "0FDudYr552rv",
        "colab_type": "code",
        "colab": {
          "base_uri": "https://localhost:8080/",
          "height": 459
        },
        "outputId": "f31f50e3-9e07-441e-ad60-422ec6763f00"
      },
      "source": [
        "model.summary()\n",
        "# MAXIMUM OF 500,000 PARAMETERS!"
      ],
      "execution_count": 66,
      "outputs": [
        {
          "output_type": "stream",
          "text": [
            "Model: \"sequential_8\"\n",
            "_________________________________________________________________\n",
            "Layer (type)                 Output Shape              Param #   \n",
            "=================================================================\n",
            "conv2d_16 (Conv2D)           (None, 30, 30, 26)        728       \n",
            "_________________________________________________________________\n",
            "max_pooling2d_16 (MaxPooling (None, 15, 15, 26)        0         \n",
            "_________________________________________________________________\n",
            "conv2d_17 (Conv2D)           (None, 13, 13, 32)        7520      \n",
            "_________________________________________________________________\n",
            "max_pooling2d_17 (MaxPooling (None, 6, 6, 32)          0         \n",
            "_________________________________________________________________\n",
            "flatten_8 (Flatten)          (None, 1152)              0         \n",
            "_________________________________________________________________\n",
            "dense_24 (Dense)             (None, 300)               345900    \n",
            "_________________________________________________________________\n",
            "dropout_14 (Dropout)         (None, 300)               0         \n",
            "_________________________________________________________________\n",
            "dense_25 (Dense)             (None, 56)                16856     \n",
            "_________________________________________________________________\n",
            "dense_26 (Dense)             (None, 10)                570       \n",
            "=================================================================\n",
            "Total params: 371,574\n",
            "Trainable params: 371,574\n",
            "Non-trainable params: 0\n",
            "_________________________________________________________________\n"
          ],
          "name": "stdout"
        }
      ]
    },
    {
      "cell_type": "code",
      "metadata": {
        "id": "kK7nvHYr6P4J",
        "colab_type": "code",
        "colab": {
          "base_uri": "https://localhost:8080/",
          "height": 1000
        },
        "outputId": "921f6bbc-e137-4ea4-c23f-52d5c4f9d201"
      },
      "source": [
        "history = model.fit(X, \n",
        "                    y,\n",
        "                    batch_size = batch_size,\n",
        "                    epochs = epochs, \n",
        "                    validation_split = 0.2, # DON'T CHANGE validation_split!\n",
        "                    shuffle=True,\n",
        "                    verbose = 1)"
      ],
      "execution_count": 67,
      "outputs": [
        {
          "output_type": "stream",
          "text": [
            "Epoch 1/50\n",
            "400/400 [==============================] - 2s 6ms/step - loss: 2.1480 - accuracy: 0.2995 - val_loss: 1.7463 - val_accuracy: 0.4284\n",
            "Epoch 2/50\n",
            "400/400 [==============================] - 2s 5ms/step - loss: 1.7253 - accuracy: 0.4338 - val_loss: 1.5619 - val_accuracy: 0.5007\n",
            "Epoch 3/50\n",
            "400/400 [==============================] - 2s 5ms/step - loss: 1.5961 - accuracy: 0.4824 - val_loss: 1.5064 - val_accuracy: 0.5191\n",
            "Epoch 4/50\n",
            "400/400 [==============================] - 2s 5ms/step - loss: 1.5138 - accuracy: 0.5125 - val_loss: 1.4120 - val_accuracy: 0.5560\n",
            "Epoch 5/50\n",
            "400/400 [==============================] - 2s 5ms/step - loss: 1.4449 - accuracy: 0.5423 - val_loss: 1.3513 - val_accuracy: 0.5829\n",
            "Epoch 6/50\n",
            "400/400 [==============================] - 2s 5ms/step - loss: 1.4002 - accuracy: 0.5605 - val_loss: 1.3161 - val_accuracy: 0.6017\n",
            "Epoch 7/50\n",
            "400/400 [==============================] - 2s 5ms/step - loss: 1.3606 - accuracy: 0.5744 - val_loss: 1.2954 - val_accuracy: 0.6076\n",
            "Epoch 8/50\n",
            "400/400 [==============================] - 2s 5ms/step - loss: 1.3268 - accuracy: 0.5913 - val_loss: 1.2696 - val_accuracy: 0.6172\n",
            "Epoch 9/50\n",
            "400/400 [==============================] - 2s 5ms/step - loss: 1.3043 - accuracy: 0.5988 - val_loss: 1.2224 - val_accuracy: 0.6377\n",
            "Epoch 10/50\n",
            "400/400 [==============================] - 2s 5ms/step - loss: 1.2758 - accuracy: 0.6105 - val_loss: 1.2068 - val_accuracy: 0.6381\n",
            "Epoch 11/50\n",
            "400/400 [==============================] - 2s 5ms/step - loss: 1.2498 - accuracy: 0.6199 - val_loss: 1.1895 - val_accuracy: 0.6417\n",
            "Epoch 12/50\n",
            "400/400 [==============================] - 2s 5ms/step - loss: 1.2388 - accuracy: 0.6268 - val_loss: 1.1847 - val_accuracy: 0.6484\n",
            "Epoch 13/50\n",
            "400/400 [==============================] - 2s 5ms/step - loss: 1.2217 - accuracy: 0.6309 - val_loss: 1.1769 - val_accuracy: 0.6469\n",
            "Epoch 14/50\n",
            "400/400 [==============================] - 2s 5ms/step - loss: 1.2032 - accuracy: 0.6376 - val_loss: 1.1578 - val_accuracy: 0.6543\n",
            "Epoch 15/50\n",
            "400/400 [==============================] - 2s 5ms/step - loss: 1.1822 - accuracy: 0.6489 - val_loss: 1.1408 - val_accuracy: 0.6617\n",
            "Epoch 16/50\n",
            "400/400 [==============================] - 2s 5ms/step - loss: 1.1788 - accuracy: 0.6489 - val_loss: 1.1460 - val_accuracy: 0.6637\n",
            "Epoch 17/50\n",
            "400/400 [==============================] - 2s 5ms/step - loss: 1.1661 - accuracy: 0.6514 - val_loss: 1.1229 - val_accuracy: 0.6730\n",
            "Epoch 18/50\n",
            "400/400 [==============================] - 2s 5ms/step - loss: 1.1523 - accuracy: 0.6600 - val_loss: 1.1029 - val_accuracy: 0.6772\n",
            "Epoch 19/50\n",
            "400/400 [==============================] - 2s 5ms/step - loss: 1.1408 - accuracy: 0.6653 - val_loss: 1.1127 - val_accuracy: 0.6722\n",
            "Epoch 20/50\n",
            "400/400 [==============================] - 2s 5ms/step - loss: 1.1299 - accuracy: 0.6678 - val_loss: 1.1049 - val_accuracy: 0.6798\n",
            "Epoch 21/50\n",
            "400/400 [==============================] - 2s 5ms/step - loss: 1.1225 - accuracy: 0.6719 - val_loss: 1.1042 - val_accuracy: 0.6746\n",
            "Epoch 22/50\n",
            "400/400 [==============================] - 2s 5ms/step - loss: 1.1168 - accuracy: 0.6722 - val_loss: 1.0847 - val_accuracy: 0.6872\n",
            "Epoch 23/50\n",
            "400/400 [==============================] - 2s 5ms/step - loss: 1.1059 - accuracy: 0.6747 - val_loss: 1.0751 - val_accuracy: 0.6859\n",
            "Epoch 24/50\n",
            "400/400 [==============================] - 2s 5ms/step - loss: 1.0917 - accuracy: 0.6822 - val_loss: 1.1000 - val_accuracy: 0.6783\n",
            "Epoch 25/50\n",
            "400/400 [==============================] - 2s 5ms/step - loss: 1.0852 - accuracy: 0.6862 - val_loss: 1.1066 - val_accuracy: 0.6797\n",
            "Epoch 26/50\n",
            "400/400 [==============================] - 2s 5ms/step - loss: 1.0792 - accuracy: 0.6866 - val_loss: 1.1051 - val_accuracy: 0.6785\n",
            "Epoch 27/50\n",
            "400/400 [==============================] - 2s 5ms/step - loss: 1.0649 - accuracy: 0.6940 - val_loss: 1.0643 - val_accuracy: 0.6968\n",
            "Epoch 28/50\n",
            "400/400 [==============================] - 2s 5ms/step - loss: 1.0546 - accuracy: 0.6980 - val_loss: 1.0651 - val_accuracy: 0.6981\n",
            "Epoch 29/50\n",
            "400/400 [==============================] - 2s 5ms/step - loss: 1.0559 - accuracy: 0.6992 - val_loss: 1.0757 - val_accuracy: 0.6954\n",
            "Epoch 30/50\n",
            "400/400 [==============================] - 2s 5ms/step - loss: 1.0435 - accuracy: 0.7017 - val_loss: 1.0421 - val_accuracy: 0.7078\n",
            "Epoch 31/50\n",
            "400/400 [==============================] - 2s 5ms/step - loss: 1.0381 - accuracy: 0.7060 - val_loss: 1.0568 - val_accuracy: 0.7039\n",
            "Epoch 32/50\n",
            "400/400 [==============================] - 2s 5ms/step - loss: 1.0329 - accuracy: 0.7070 - val_loss: 1.0340 - val_accuracy: 0.7112\n",
            "Epoch 33/50\n",
            "400/400 [==============================] - 2s 5ms/step - loss: 1.0266 - accuracy: 0.7072 - val_loss: 1.0396 - val_accuracy: 0.7054\n",
            "Epoch 34/50\n",
            "400/400 [==============================] - 2s 5ms/step - loss: 1.0190 - accuracy: 0.7129 - val_loss: 1.0475 - val_accuracy: 0.7052\n",
            "Epoch 35/50\n",
            "400/400 [==============================] - 2s 5ms/step - loss: 1.0148 - accuracy: 0.7140 - val_loss: 1.0566 - val_accuracy: 0.7021\n",
            "Epoch 36/50\n",
            "400/400 [==============================] - 2s 5ms/step - loss: 1.0127 - accuracy: 0.7161 - val_loss: 1.0300 - val_accuracy: 0.7098\n",
            "Epoch 37/50\n",
            "400/400 [==============================] - 2s 5ms/step - loss: 1.0043 - accuracy: 0.7186 - val_loss: 1.0539 - val_accuracy: 0.7049\n",
            "Epoch 38/50\n",
            "400/400 [==============================] - 2s 5ms/step - loss: 0.9924 - accuracy: 0.7221 - val_loss: 1.0411 - val_accuracy: 0.7082\n",
            "Epoch 39/50\n",
            "400/400 [==============================] - 2s 5ms/step - loss: 0.9886 - accuracy: 0.7241 - val_loss: 1.0263 - val_accuracy: 0.7212\n",
            "Epoch 40/50\n",
            "400/400 [==============================] - 2s 5ms/step - loss: 0.9855 - accuracy: 0.7268 - val_loss: 1.0345 - val_accuracy: 0.7145\n",
            "Epoch 41/50\n",
            "400/400 [==============================] - 2s 5ms/step - loss: 0.9815 - accuracy: 0.7295 - val_loss: 1.0332 - val_accuracy: 0.7181\n",
            "Epoch 42/50\n",
            "400/400 [==============================] - 2s 5ms/step - loss: 0.9772 - accuracy: 0.7309 - val_loss: 1.0232 - val_accuracy: 0.7168\n",
            "Epoch 43/50\n",
            "400/400 [==============================] - 2s 5ms/step - loss: 0.9733 - accuracy: 0.7319 - val_loss: 1.0264 - val_accuracy: 0.7215\n",
            "Epoch 44/50\n",
            "400/400 [==============================] - 2s 5ms/step - loss: 0.9657 - accuracy: 0.7377 - val_loss: 1.0278 - val_accuracy: 0.7232\n",
            "Epoch 45/50\n",
            "400/400 [==============================] - 2s 5ms/step - loss: 0.9649 - accuracy: 0.7350 - val_loss: 1.0152 - val_accuracy: 0.7200\n",
            "Epoch 46/50\n",
            "400/400 [==============================] - 2s 5ms/step - loss: 0.9600 - accuracy: 0.7397 - val_loss: 1.0236 - val_accuracy: 0.7223\n",
            "Epoch 47/50\n",
            "400/400 [==============================] - 2s 5ms/step - loss: 0.9595 - accuracy: 0.7357 - val_loss: 1.0225 - val_accuracy: 0.7262\n",
            "Epoch 48/50\n",
            "400/400 [==============================] - 2s 5ms/step - loss: 0.9540 - accuracy: 0.7387 - val_loss: 1.0103 - val_accuracy: 0.7278\n",
            "Epoch 49/50\n",
            "400/400 [==============================] - 2s 5ms/step - loss: 0.9483 - accuracy: 0.7432 - val_loss: 1.0207 - val_accuracy: 0.7260\n",
            "Epoch 50/50\n",
            "400/400 [==============================] - 2s 5ms/step - loss: 0.9422 - accuracy: 0.7473 - val_loss: 1.0216 - val_accuracy: 0.7227\n"
          ],
          "name": "stdout"
        }
      ]
    },
    {
      "cell_type": "markdown",
      "metadata": {
        "id": "-NrXxz4pLhdG",
        "colab_type": "text"
      },
      "source": [
        "### Question 3.2)\n",
        "Create training and validation loss and accuracy plots as above."
      ]
    },
    {
      "cell_type": "code",
      "metadata": {
        "id": "ri2mViLfLhdG",
        "colab_type": "code",
        "colab": {
          "base_uri": "https://localhost:8080/",
          "height": 617
        },
        "outputId": "d3366374-cdfd-4a66-b81d-bfce958690c6"
      },
      "source": [
        "### YOUR CODE HERE ###\n",
        "def plot_losses(hist):\n",
        "    plt.plot(hist.history['loss'])\n",
        "    plt.plot(hist.history['val_loss'])\n",
        "    plt.title('Model Loss')\n",
        "    plt.ylabel('Loss')\n",
        "    plt.xlabel('Epoch')\n",
        "    plt.legend(['Train', 'Val'])\n",
        "    plt.show()\n",
        "def plot_accuracies(hist):\n",
        "    plt.plot(hist.history['accuracy'])\n",
        "    plt.plot(hist.history['val_accuracy'])\n",
        "    plt.title('Model Accuracy')\n",
        "    plt.ylabel('Accuracy')\n",
        "    plt.xlabel('Epoch')\n",
        "    plt.legend(['Train', 'Val'])\n",
        "    plt.show()\n",
        "plot_losses(history)\n",
        "plot_accuracies(history)\n"
      ],
      "execution_count": 68,
      "outputs": [
        {
          "output_type": "display_data",
          "data": {
            "image/png": "[encoded data removed]",
            "text/plain": [
              "<Figure size 432x288 with 1 Axes>"
            ]
          },
          "metadata": {
            "tags": []
          }
        },
        {
          "output_type": "display_data",
          "data": {
            "image/png": "[encoded data removed]",
            "text/plain": [
              "<Figure size 432x288 with 1 Axes>"
            ]
          },
          "metadata": {
            "tags": []
          }
        }
      ]
    }
  ]
}